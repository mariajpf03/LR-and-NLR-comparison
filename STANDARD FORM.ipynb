{
 "cells": [
  {
   "cell_type": "code",
   "execution_count": 3,
   "metadata": {},
   "outputs": [
    {
     "data": {
      "text/plain": [
       "'this is eq 1'"
      ]
     },
     "metadata": {},
     "output_type": "display_data"
    },
    {
     "data": {
      "text/latex": [
       "$\\displaystyle V_{1} \\frac{d}{d t} C_{A1}{\\left(t \\right)} = C_{A0} f - V_{1} k C_{A1}{\\left(t \\right)} - f C_{A1}{\\left(t \\right)}$"
      ],
      "text/plain": [
       "Eq(V1*Derivative(C_A1(t), t), C_A0*f - V1*k*C_A1(t) - f*C_A1(t))"
      ]
     },
     "metadata": {},
     "output_type": "display_data"
    },
    {
     "data": {
      "text/plain": [
       "'this is Tau1 and K1'"
      ]
     },
     "metadata": {},
     "output_type": "display_data"
    },
    {
     "data": {
      "text/latex": [
       "$\\displaystyle \\frac{V_{1}}{V_{1} k + f}$"
      ],
      "text/plain": [
       "V1/(V1*k + f)"
      ]
     },
     "metadata": {},
     "output_type": "display_data"
    },
    {
     "data": {
      "text/latex": [
       "$\\displaystyle \\frac{f}{V_{1} k + f}$"
      ],
      "text/plain": [
       "f/(V1*k + f)"
      ]
     },
     "metadata": {},
     "output_type": "display_data"
    },
    {
     "data": {
      "text/plain": [
       "'this is eq 2'"
      ]
     },
     "metadata": {},
     "output_type": "display_data"
    },
    {
     "data": {
      "text/latex": [
       "$\\displaystyle V_{2} \\frac{d}{d t} C_{A2}{\\left(t \\right)} = - V_{2} k C_{A2}{\\left(t \\right)} + f C_{A1}{\\left(t \\right)} - f C_{A2}{\\left(t \\right)}$"
      ],
      "text/plain": [
       "Eq(V2*Derivative(C_A2(t), t), -V2*k*C_A2(t) + f*C_A1(t) - f*C_A2(t))"
      ]
     },
     "metadata": {},
     "output_type": "display_data"
    },
    {
     "data": {
      "text/plain": [
       "'this is Tau2 and K2'"
      ]
     },
     "metadata": {},
     "output_type": "display_data"
    },
    {
     "data": {
      "text/latex": [
       "$\\displaystyle \\frac{V_{2}}{V_{2} k + f}$"
      ],
      "text/plain": [
       "V2/(V2*k + f)"
      ]
     },
     "metadata": {},
     "output_type": "display_data"
    },
    {
     "data": {
      "text/latex": [
       "$\\displaystyle \\frac{f}{V_{2} k + f}$"
      ],
      "text/plain": [
       "f/(V2*k + f)"
      ]
     },
     "metadata": {},
     "output_type": "display_data"
    }
   ],
   "source": [
    "from sympy import symbols, diff, Function, Eq, solve, collect, prod\n",
    "\n",
    "t,V,f,k,CA0,V1,V2 = symbols(\"t,V,f,k,C_A0,V1,V2\",positive=True)\n",
    "CA1,CA2 = symbols('C_A1,C_A2',cls=Function)\n",
    "\n",
    "def var_in_part(var,part):\n",
    "    # Read the next few nodes\n",
    "    _ = sum(map(lambda x:x.as_ordered_factors(),part.as_ordered_terms()),start=[])\n",
    "\n",
    "    # If not at a leaf search further, if at leaf check if var is variable\n",
    "    if len(_) > 1:\n",
    "        return any(var_in_part(var,part) for part in _)\n",
    "    elif len(_) == 1:\n",
    "        return _[0] == var\n",
    "    else:\n",
    "        raise NotImplementedError()\n",
    "\n",
    "def to_standard_deqn(E,y,x,t):\n",
    "    '''\n",
    "    Brings a differential equation to standard form\n",
    "    `tau * dy/dt + y = K * x`\n",
    "    returns `tau` and `K`\n",
    "    '''\n",
    "    # Isolate the x function\n",
    "    sol = solve(E,x)\n",
    "    assert len(sol) == 1\n",
    "    \n",
    "    # Save cofactors for later\n",
    "    col = collect(sol[0],y)\n",
    "    *co_factor,col = col.as_ordered_factors()\n",
    "\n",
    "    # Split into dy and y\n",
    "    terms = col.as_ordered_terms()\n",
    "    assert len(terms) == 2\n",
    "    _dy,_y = terms if var_in_part(y,terms[1]) else terms[::-1]\n",
    "    assert var_in_part(y,_y)\n",
    "    assert var_in_part(diff(y,t),_dy)\n",
    "\n",
    "    # Extract coefficients\n",
    "    *K_inv,_y = [1]+_y.as_ordered_factors()\n",
    "    *tau_K_inv,_dy = [1]+_dy.as_ordered_factors()\n",
    "    assert y == _y\n",
    "    assert diff(y,t) == _dy\n",
    "\n",
    "    # Combine coefficients\n",
    "    K_inv     = prod(co_factor+K_inv)\n",
    "    tau_K_inv = prod(co_factor+tau_K_inv)\n",
    "    tau = tau_K_inv/K_inv\n",
    "    K = 1/K_inv\n",
    "\n",
    "    return tau,K\n",
    "\n",
    "def from_standard_deqn(y,x,t,tau,K):\n",
    "    '''\n",
    "    Constructs differential equation on standard form\n",
    "    `tau * dy/dt + y = K * x`\n",
    "    given `tau` and `K`\n",
    "    '''\n",
    "    return Eq(tau*diff(y,t) + y, K * x)\n",
    "\n",
    "deqn_1 = Eq(diff(V1*CA1(t),t), f*CA0   -f*CA1(t)-V1*k*CA1(t))\n",
    "deqn_2 = Eq(diff(V2*CA2(t),t), f*CA1(t)-f*CA2(t)-V2*k*CA2(t))\n",
    "tau1,K1 = to_standard_deqn(deqn_1,CA1(t),CA0   ,t)\n",
    "tau2,K2 = to_standard_deqn(deqn_2,CA2(t),CA1(t),t)\n",
    "assert tau1 == V1/(f+V1*k)\n",
    "assert K1 == f/(f+V1*k)\n",
    "assert tau2 == V2/(f+V2*k)\n",
    "assert K2 == f/(f+V2*k)\n",
    "\n",
    "display ('this is eq 1', deqn_1)\n",
    "display ('this is Tau1 and K1', tau1, K1)\n",
    "display ('this is eq 2', deqn_2)\n",
    "display ('this is Tau2 and K2', tau2, K2)"
   ]
  }
 ],
 "metadata": {
  "kernelspec": {
   "display_name": "Python 3",
   "language": "python",
   "name": "python3"
  },
  "language_info": {
   "codemirror_mode": {
    "name": "ipython",
    "version": 3
   },
   "file_extension": ".py",
   "mimetype": "text/x-python",
   "name": "python",
   "nbconvert_exporter": "python",
   "pygments_lexer": "ipython3",
   "version": "3.11.3"
  }
 },
 "nbformat": 4,
 "nbformat_minor": 2
}
