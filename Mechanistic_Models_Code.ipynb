{
  "cells": [
    {
      "cell_type": "markdown",
      "metadata": {},
      "source": [
        "Exam June 2024, 1.3"
      ]
    },
    {
      "cell_type": "code",
      "execution_count": 1,
      "metadata": {
        "colab": {
          "base_uri": "https://localhost:8080/",
          "height": 359
        },
        "id": "6nsRS0MqyH0a",
        "outputId": "3ded0980-22d0-4a96-bb71-0958b1ad7ae3"
      },
      "outputs": [],
      "source": [
        "from sympy import * #import main library and functions\n",
        "from IPython.display import display, Math, Markdown #this is to make everything look pretty when displaying the equns\n",
        "\n",
        "\n",
        "# now we will define the symbols used, include anything except the thing that is in d/dt\n",
        "t,k,f,V1,Cg  = symbols(\"t,k,f,V1,Cg\",positive=True) \n",
        "\n",
        "# define Cp as a function which is the differential equation\n",
        "Cp = symbols('C_p',cls=Function) \n"
      ]
    },
    {
      "cell_type": "code",
      "execution_count": 6,
      "metadata": {},
      "outputs": [
        {
          "name": "stdout",
          "output_type": "stream",
          "text": [
            "this is the differential equation that will be solved:\n"
          ]
        },
        {
          "data": {
            "text/latex": [
              "$\\displaystyle \\frac{d}{d t} C_{p}{\\left(t \\right)} = Cg k - \\frac{f C_{p}{\\left(t \\right)}}{V_{1}}$"
            ],
            "text/plain": [
              "Eq(Derivative(C_p(t), t), Cg*k - f*C_p(t)/V1)"
            ]
          },
          "execution_count": 6,
          "metadata": {},
          "output_type": "execute_result"
        }
      ],
      "source": [
        "#now we will define the first differential equation\n",
        "# REMEMBER left side of equation (= is ,) and right side \n",
        "deqn1 = Eq(diff(Cp(t),t),k*Cg-f*Cp(t)/V1) # remember that Cp is a function of time so write (t)\n",
        "\n",
        "print('this is the differential equation that will be solved:')\n",
        "deqn1"
      ]
    },
    {
      "cell_type": "code",
      "execution_count": 7,
      "metadata": {},
      "outputs": [
        {
          "name": "stdout",
          "output_type": "stream",
          "text": [
            "symbolic solution:\n"
          ]
        },
        {
          "data": {
            "text/latex": [
              "$\\displaystyle C_{p}{\\left(t \\right)} = \\frac{Cg V_{1} k}{f} - \\frac{Cg V_{1} k e^{- \\frac{f t}{V_{1}}}}{f}$"
            ],
            "text/plain": [
              "Eq(C_p(t), Cg*V1*k/f - Cg*V1*k*exp(-f*t/V1)/f)"
            ]
          },
          "execution_count": 7,
          "metadata": {},
          "output_type": "execute_result"
        }
      ],
      "source": [
        "# now we will solve for symbolic solution = wiht initial params and conditions\n",
        "''\n",
        "init_condit1 = {Cp(0):0} # initial value of the concentration \n",
        "par = [(f,1.2),(Cg,0),(V1,15),(k,0.4)] # parameters, substitute the values given\n",
        "\n",
        "# now we ask python to solve it for us :)\n",
        "symb_sol = dsolve((deqn1),ics=init_condit1) #\n",
        "print( 'symbolic solution:')\n",
        "symb_sol"
      ]
    },
    {
      "cell_type": "code",
      "execution_count": 11,
      "metadata": {},
      "outputs": [
        {
          "data": {
            "image/png": "[encoded data removed]",
            "text/plain": [
              "<Figure size 640x480 with 1 Axes>"
            ]
          },
          "metadata": {},
          "output_type": "display_data"
        }
      ],
      "source": [
        "# to provide a figure over a given amount of time:\n",
        "''\n",
        "# extracting the original solution with the same parameters\n",
        "solution = symb_sol.rhs.subs(par) \n",
        "\n",
        "#plotting\n",
        "graphs = plot(solution,(t,0,60),line_colour='blue',label='Cg1(t)', legend=True, show=False)\n",
        "\n",
        "graphs.title = 'Concentration of 1,3-propanediol over Time'\n",
        "graphs.show()"
      ]
    },
    {
      "cell_type": "markdown",
      "metadata": {
        "id": "YOYmHvGM9OtO"
      },
      "source": [
        "NOW ADD LABELS TO THE EUQAITONS SO YOU KNOW WHAT IS WHAT"
      ]
    },
    {
      "cell_type": "code",
      "execution_count": null,
      "metadata": {
        "id": "pz627Pxc9OVB"
      },
      "outputs": [],
      "source": [
        "\n",
        "def variable_in_part_of_eq(var,part): #var is variable, is it in a part of the equation\n",
        "    # Read the next few nodes\n",
        "    split_eq = sum(map(lambda x:x.as_ordered_factors(),part.as_ordered_terms()),start=[]) #break the equation down from terms (a*b to a,b) aka simplify, also start is for defining list, adds together instead of separate values\n",
        "\n",
        "    # If not at a leaf search further, if at leaf check if var is variable\n",
        "    if len(split_eq) > 1: #split equation into variables s\n",
        "        return any(variable_in_part_of_eq\n",
        "      (var,part) for part in split_eq)\n",
        "    elif len(split_eq) == 1:\n",
        "        return split_eq[0] == var #loop and returns the variable\n",
        "    else:\n",
        "        raise NotImplementedError()\n",
        "\n",
        "def to_standard_deqn(deqn,y,x,t):\n",
        "   \n",
        "    '''\n",
        "    Brings a differential equation to standard form\n",
        "    `tau * dy/dt + y = K * x`\n",
        "    returns `tau` and `K`\n",
        "    '''\n",
        "    # Isolate the x function\n",
        "    solution = solve(deqn,x) # deqnis defined later, it is\n",
        "    assert len(solution) == 1 #ensures only one solution\n",
        "\n",
        "    # collect and separate cofactors for later\n",
        "    '''\n",
        "    a * y + b * y => (a+b) * y\n",
        "    a * y = (dy/dt + y ) => dy/dt + y\n",
        "    (1/f) = (dy/dt + y ) => dy/dt + y\n",
        "    '''\n",
        "    display (solution[0])\n",
        "    col = collect(solution[0],y) #collects the cofactors, only (1/f) look at notes\n",
        "    display (col)\n",
        "    *co_factor,col = col.as_ordered_factors()\n",
        "    display (col)\n",
        "\n",
        "    # Split into dy and y\n",
        "    terms = col.as_ordered_terms()\n",
        "    assert len(terms) == 2 #ensure eq is split into 2\n",
        "    _dy,_y = terms if variable_in_part_of_eq(y,terms[1]) else terms[::-1] #variable is in right hand side otherwise turn around the list so y is in correct space\n",
        "    assert variable_in_part_of_eq(y,_y) #ensure y\n",
        "    assert variable_in_part_of_eq(diff(y,t),_dy) #ensure dy\n",
        "    display (_dy,_y)\n",
        "\n",
        "    # Extract coefficients\n",
        "    *K_inv,_y = [1]+_y.as_ordered_factors()\n",
        "    *tau_K_inv,_dy = [1]+_dy.as_ordered_factors()\n",
        "    assert y == _y #k inv\n",
        "    assert diff(y,t) == _dy #tau\n",
        "    display (K_inv,_y)\n",
        "    display (tau_K_inv,_dy)\n",
        "\n",
        "    # Combine coefficients\n",
        "    K_inv     = prod(co_factor+K_inv)\n",
        "    tau_K_inv = prod(co_factor+tau_K_inv)\n",
        "    tau = tau_K_inv/K_inv\n",
        "    K = 1/K_inv\n",
        "\n",
        "    return tau,K\n",
        "\n",
        "def from_standard_deqn(y,x,t,tau,K):\n",
        "    '''\n",
        "    Constructs differential equation on standard form\n",
        "    `tau * dy/dt + y = K * x`\n",
        "    given `tau` and `K`\n",
        "    '''\n",
        "    return Eq(tau*diff(y,t) + y, K * x)\n",
        "\n",
        "deqn_1 = Eq(diff(V1*CA1(t),t), f*CA0   -f*CA1(t)-V1*k*CA1(t))\n",
        "deqn_2 = Eq(diff(V2*CA2(t),t), f*CA1(t)-f*CA2(t)-V2*k*CA2(t))\n",
        "tau1,K1 = to_standard_deqn(deqn_1,CA1(t),CA0   ,t) #y value is CA1 and x value is CA0\n",
        "tau2,K2 = to_standard_deqn(deqn_2,CA2(t),CA1(t),t)\n",
        "assert tau1 == V1/(f+V1*k)\n",
        "assert K1 == f/(f+V1*k)\n",
        "assert tau2 == V2/(f+V2*k)\n",
        "assert K2 == f/(f+V2*k)\n",
        "display(\"Tau\",tau1)\n",
        "display(\"K\",K1)"
      ]
    }
  ],
  "metadata": {
    "colab": {
      "authorship_tag": "ABX9TyMYpGtmEqr/ZHrrdkls4Tax",
      "include_colab_link": true,
      "provenance": []
    },
    "kernelspec": {
      "display_name": "Python 3",
      "name": "python3"
    },
    "language_info": {
      "codemirror_mode": {
        "name": "ipython",
        "version": 3
      },
      "file_extension": ".py",
      "mimetype": "text/x-python",
      "name": "python",
      "nbconvert_exporter": "python",
      "pygments_lexer": "ipython3",
      "version": "3.11.3"
    }
  },
  "nbformat": 4,
  "nbformat_minor": 0
}
