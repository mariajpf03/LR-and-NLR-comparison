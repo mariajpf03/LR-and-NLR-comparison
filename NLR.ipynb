{
  "nbformat": 4,
  "nbformat_minor": 0,
  "metadata": {
    "colab": {
      "provenance": [],
      "include_colab_link": true
    },
    "kernelspec": {
      "name": "python3",
      "display_name": "Python 3"
    },
    "language_info": {
      "name": "python"
    }
  },
  "cells": [
    {
      "cell_type": "markdown",
      "metadata": {
        "id": "view-in-github",
        "colab_type": "text"
      },
      "source": [
        "<a href=\"https://colab.research.google.com/github/mariajpf03/Math-Modelling-/blob/main/NLR.ipynb\" target=\"_parent\"><img src=\"https://colab.research.google.com/assets/colab-badge.svg\" alt=\"Open In Colab\"/></a>"
      ]
    },
    {
      "cell_type": "code",
      "execution_count": null,
      "metadata": {
        "id": "jRss65pIXKgt"
      },
      "outputs": [],
      "source": []
    },
    {
      "cell_type": "markdown",
      "source": [
        "**Exercise Influence**\n",
        "\n",
        "This exercise uses the data set influence2.txt\n",
        "Tasks\n",
        "1. Import the data set as a pandas dataframe.\n",
        "2. Using Statsmodels.api ols function fit the x and y values of the data set. Follow the procedure in MM_stats_L2.ipynb.\n",
        "3. Plot y versus x including the fit.\n",
        "\tIdentify any outlying data points.\n",
        "4. Add the fit of your model (“y fit”) to your data frame\n",
        "5. Calculate the residuals on y (“y residuals”) and add them to the data frame.\n",
        "6. Plot the residuals versus y fits.\n",
        "7. Plot a histogram of the residuals\n",
        "\tIdentify any outlying data points.\n",
        "8. Test the normality of the residuals using a QQ plot. Use the following general procedure:  \n",
        "import scipy.stats as stats\n",
        "stats.probplot(df['y residuals'], dist=\"norm\", plot=plt)\n",
        "\n",
        "\tDoes the QQ plot indicate that the residuals are normally distributed?\n",
        "\n",
        "9. Test the normality of the residuals using the Shapiro Wilks test or the the Kolmogorov-Smirnov test. Use the following general procedure:\n",
        "\tfrom scipy.stats import shapiro\n",
        "from scipy.stats import kstest\n",
        "\n",
        "print(shapiro(df[\"y residuals\"]))\n",
        "\n",
        "print(kstest(df[\"y residuals\"], 'norm'))\n",
        "\n",
        "\tDo the tests indicate that the residuals are normally distributed?\n",
        "10.\n",
        "Statsmodels.api has a neat feature called get_influence() which enables you to quickly call information about outliers and points of influence. Please read the link briefly to see what it can do:\n",
        "https://www.statsmodels.org/dev/generated/statsmodels.stats.outliers_influence.OLSInfluence.html\n",
        "\n",
        "Get the influence data from statsmodels.api ols output:\n",
        "influence = model.get_influence() #where model is the name of the ols output you have chosen\n",
        "11. Plot the leverage against the x values.\n",
        "\tGet the leverage using\n",
        "\tleverage = influence.hat_matrix_diag\n",
        "\tExplain why this plot has this particular shape\n",
        "12. Plot the studentized residuals against the x values.\n",
        "\tGet the studentized residuals using\n",
        "\tstudent_resid = influence.resid_studentized_external\n",
        "Compare the studentized residuals against a t distribution with n-k-2 degrees of freedom. Describe you findings in approximately 2-3 sentences.\n",
        "\tHint: to make a t-distribution you can use the following:\n",
        "\tfrom scipy.stats import t\n",
        "\trv = t(df=freedom, loc=0, scale=1) #use freedom = n-k-2\n",
        "x = np.linspace(rv.ppf(0.0001), rv.ppf(0.9999), 100) # xdata for plot\n",
        "y = rv.pdf(t_x) # ydata for plot\n",
        "\n",
        "13. Plot the DFFITS against the x values\n",
        "\tGet DFFITS using\n",
        "\t(dffits, p) = influence.dffits\n",
        "\tCompare the DFFITS to:√(2&(k+2)/(n-k-2))\n",
        "What can you conclude from this result?\n",
        "\n",
        "14. Plot the DFBETAS against the x values\n",
        "\tGet DFFITS using\n",
        "dfbetas = influence.dfbetas #The first column is for b0, the second for b1\n",
        "Compare the DFBETAS to 2/√n .\n",
        "What can you conclude from this result?\n"
      ],
      "metadata": {
        "id": "8nYqhiK1nqnF"
      }
    },
    {
      "cell_type": "code",
      "source": [
        "import matplotlib.pyplot as plt\n",
        "import pandas as pd"
      ],
      "metadata": {
        "id": "nb9BVuSvn9bc"
      },
      "execution_count": null,
      "outputs": []
    },
    {
      "cell_type": "code",
      "source": [
        "from google.colab import drive\n",
        "drive.mount('/content/drive')"
      ],
      "metadata": {
        "colab": {
          "base_uri": "https://localhost:8080/"
        },
        "id": "OmfcJH0UtsJj",
        "outputId": "226c706b-97b4-4e96-8045-d219a203b4e9"
      },
      "execution_count": null,
      "outputs": [
        {
          "output_type": "stream",
          "name": "stdout",
          "text": [
            "Mounted at /content/drive\n"
          ]
        }
      ]
    },
    {
      "cell_type": "code",
      "source": [
        "#1\n",
        "import pandas as pd\n",
        "\n",
        "file_path = '/content/drive/My Drive/Mathematical modelling/influence2.txt'\n",
        "\n",
        "mydataframe = pd.read_csv(file_path, delimiter='\\t')\n",
        "print(mydataframe)"
      ],
      "metadata": {
        "colab": {
          "base_uri": "https://localhost:8080/"
        },
        "id": "GZgLYZGhtckV",
        "outputId": "d041afb6-fc12-4569-a853-831acc69bfd2"
      },
      "execution_count": null,
      "outputs": [
        {
          "output_type": "stream",
          "name": "stdout",
          "text": [
            "          x        y\n",
            "0   0.10000  -0.0716\n",
            "1   0.45401   4.1673\n",
            "2   1.09765   6.5703\n",
            "3   1.27936  13.8150\n",
            "4   2.20611  11.4501\n",
            "5   2.50064  12.9554\n",
            "6   3.04030  20.1575\n",
            "7   3.23583  17.5633\n",
            "8   4.45308  26.0317\n",
            "9   4.16990  22.7573\n",
            "10  5.28474  26.3030\n",
            "11  5.59238  30.6885\n",
            "12  5.92091  33.9402\n",
            "13  6.66066  30.9228\n",
            "14  6.79953  34.1100\n",
            "15  7.97943  44.4536\n",
            "16  8.41536  46.5022\n",
            "17  8.71607  50.0568\n",
            "18  8.70156  46.5475\n",
            "19  9.16463  45.7762\n",
            "20  4.00000  40.0000\n"
          ]
        }
      ]
    },
    {
      "cell_type": "code",
      "source": [
        "#2\n",
        "import statsmodels.api as sm\n",
        "x = mydataframe[\"x\"]\n",
        "y = mydataframe[\"y\"]        #yi\n",
        "x = sm.add_constant(x)\n",
        "\n",
        "my_model = sm.OLS(y,x).fit()\n",
        "print(my_model.summary())\n",
        "\n",
        "fig,ax = plt.subplots()\n",
        "fig = sm.graphics.plot_fit(my_model,1,ax=ax, vlines = False, ls = \"-\", marker = \"None\")"
      ],
      "metadata": {
        "colab": {
          "base_uri": "https://localhost:8080/",
          "height": 961
        },
        "id": "VVGwmxgEEbdk",
        "outputId": "58c58c5a-30b0-4c88-a818-dcbc3beea438"
      },
      "execution_count": null,
      "outputs": [
        {
          "output_type": "stream",
          "name": "stdout",
          "text": [
            "                            OLS Regression Results                            \n",
            "==============================================================================\n",
            "Dep. Variable:                      y   R-squared:                       0.910\n",
            "Model:                            OLS   Adj. R-squared:                  0.905\n",
            "Method:                 Least Squares   F-statistic:                     192.2\n",
            "Date:                Fri, 01 Mar 2024   Prob (F-statistic):           2.18e-11\n",
            "Time:                        11:27:00   Log-Likelihood:                -61.294\n",
            "No. Observations:                  21   AIC:                             126.6\n",
            "Df Residuals:                      19   BIC:                             128.7\n",
            "Df Model:                           1                                         \n",
            "Covariance Type:            nonrobust                                         \n",
            "==============================================================================\n",
            "                 coef    std err          t      P>|t|      [0.025      0.975]\n",
            "------------------------------------------------------------------------------\n",
            "const          2.9576      2.009      1.472      0.157      -1.247       7.163\n",
            "x              5.0373      0.363     13.865      0.000       4.277       5.798\n",
            "==============================================================================\n",
            "Omnibus:                       30.102   Durbin-Watson:                   1.564\n",
            "Prob(Omnibus):                  0.000   Jarque-Bera (JB):               61.821\n",
            "Skew:                           2.424   Prob(JB):                     3.76e-14\n",
            "Kurtosis:                       9.866   Cond. No.                         11.1\n",
            "==============================================================================\n",
            "\n",
            "Notes:\n",
            "[1] Standard Errors assume that the covariance matrix of the errors is correctly specified.\n"
          ]
        },
        {
          "output_type": "stream",
          "name": "stderr",
          "text": [
            "/usr/local/lib/python3.10/dist-packages/statsmodels/graphics/regressionplots.py:157: UserWarning: marker is redundantly defined by the 'marker' keyword argument and the fmt string \"D\" (-> marker='D'). The keyword argument will take precedence.\n",
            "  ax.plot(x1, results.fittedvalues[x1_argsort], 'D', color='r',\n"
          ]
        },
        {
          "output_type": "display_data",
          "data": {
            "text/plain": [
              "<Figure size 640x480 with 1 Axes>"
            ],
            "image/png": "[encoded data removed]"
          },
          "metadata": {}
        }
      ]
    },
    {
      "cell_type": "code",
      "source": [
        "#3 ŷi\n",
        "my_model.fittedvalues"
      ],
      "metadata": {
        "colab": {
          "base_uri": "https://localhost:8080/"
        },
        "id": "V7_9Y92fFqjj",
        "outputId": "89efcfbb-5720-4ea2-8b83-c1079824c9b2"
      },
      "execution_count": null,
      "outputs": [
        {
          "output_type": "execute_result",
          "data": {
            "text/plain": [
              "0      3.461372\n",
              "1      5.244643\n",
              "2      8.486879\n",
              "3      9.402215\n",
              "4     14.070574\n",
              "5     15.554223\n",
              "6     18.272677\n",
              "7     19.257629\n",
              "8     25.389337\n",
              "9     23.962861\n",
              "10    29.578695\n",
              "11    31.128383\n",
              "12    32.783302\n",
              "13    36.509678\n",
              "14    37.209214\n",
              "15    43.152777\n",
              "16    45.348706\n",
              "17    46.863486\n",
              "18    46.790394\n",
              "19    49.123037\n",
              "20    23.107016\n",
              "dtype: float64"
            ]
          },
          "metadata": {},
          "execution_count": 5
        }
      ]
    },
    {
      "cell_type": "code",
      "source": [
        "#4 Add the fit of your model (“y fit”) to your data frame\n",
        "mydataframe[\"y fit\"] = my_model.fittedvalues"
      ],
      "metadata": {
        "id": "4pEyVdOvKILB"
      },
      "execution_count": null,
      "outputs": []
    },
    {
      "cell_type": "code",
      "source": [
        "mydataframe"
      ],
      "metadata": {
        "colab": {
          "base_uri": "https://localhost:8080/",
          "height": 707
        },
        "id": "mYVBRM2AKSZI",
        "outputId": "604c064d-cfb1-4b3a-8fbf-2e73f6fe9b8e"
      },
      "execution_count": null,
      "outputs": [
        {
          "output_type": "execute_result",
          "data": {
            "text/plain": [
              "          x        y      y fit\n",
              "0   0.10000  -0.0716   3.461372\n",
              "1   0.45401   4.1673   5.244643\n",
              "2   1.09765   6.5703   8.486879\n",
              "3   1.27936  13.8150   9.402215\n",
              "4   2.20611  11.4501  14.070574\n",
              "5   2.50064  12.9554  15.554223\n",
              "6   3.04030  20.1575  18.272677\n",
              "7   3.23583  17.5633  19.257629\n",
              "8   4.45308  26.0317  25.389337\n",
              "9   4.16990  22.7573  23.962861\n",
              "10  5.28474  26.3030  29.578695\n",
              "11  5.59238  30.6885  31.128383\n",
              "12  5.92091  33.9402  32.783302\n",
              "13  6.66066  30.9228  36.509678\n",
              "14  6.79953  34.1100  37.209214\n",
              "15  7.97943  44.4536  43.152777\n",
              "16  8.41536  46.5022  45.348706\n",
              "17  8.71607  50.0568  46.863486\n",
              "18  8.70156  46.5475  46.790394\n",
              "19  9.16463  45.7762  49.123037\n",
              "20  4.00000  40.0000  23.107016"
            ],
            "text/html": [
              "\n",
              "  <div id=\"df-aae42c43-2c25-49c5-a4d9-29b0fef1cb0f\" class=\"colab-df-container\">\n",
              "    <div>\n",
              "<style scoped>\n",
              "    .dataframe tbody tr th:only-of-type {\n",
              "        vertical-align: middle;\n",
              "    }\n",
              "\n",
              "    .dataframe tbody tr th {\n",
              "        vertical-align: top;\n",
              "    }\n",
              "\n",
              "    .dataframe thead th {\n",
              "        text-align: right;\n",
              "    }\n",
              "</style>\n",
              "<table border=\"1\" class=\"dataframe\">\n",
              "  <thead>\n",
              "    <tr style=\"text-align: right;\">\n",
              "      <th></th>\n",
              "      <th>x</th>\n",
              "      <th>y</th>\n",
              "      <th>y fit</th>\n",
              "    </tr>\n",
              "  </thead>\n",
              "  <tbody>\n",
              "    <tr>\n",
              "      <th>0</th>\n",
              "      <td>0.10000</td>\n",
              "      <td>-0.0716</td>\n",
              "      <td>3.461372</td>\n",
              "    </tr>\n",
              "    <tr>\n",
              "      <th>1</th>\n",
              "      <td>0.45401</td>\n",
              "      <td>4.1673</td>\n",
              "      <td>5.244643</td>\n",
              "    </tr>\n",
              "    <tr>\n",
              "      <th>2</th>\n",
              "      <td>1.09765</td>\n",
              "      <td>6.5703</td>\n",
              "      <td>8.486879</td>\n",
              "    </tr>\n",
              "    <tr>\n",
              "      <th>3</th>\n",
              "      <td>1.27936</td>\n",
              "      <td>13.8150</td>\n",
              "      <td>9.402215</td>\n",
              "    </tr>\n",
              "    <tr>\n",
              "      <th>4</th>\n",
              "      <td>2.20611</td>\n",
              "      <td>11.4501</td>\n",
              "      <td>14.070574</td>\n",
              "    </tr>\n",
              "    <tr>\n",
              "      <th>5</th>\n",
              "      <td>2.50064</td>\n",
              "      <td>12.9554</td>\n",
              "      <td>15.554223</td>\n",
              "    </tr>\n",
              "    <tr>\n",
              "      <th>6</th>\n",
              "      <td>3.04030</td>\n",
              "      <td>20.1575</td>\n",
              "      <td>18.272677</td>\n",
              "    </tr>\n",
              "    <tr>\n",
              "      <th>7</th>\n",
              "      <td>3.23583</td>\n",
              "      <td>17.5633</td>\n",
              "      <td>19.257629</td>\n",
              "    </tr>\n",
              "    <tr>\n",
              "      <th>8</th>\n",
              "      <td>4.45308</td>\n",
              "      <td>26.0317</td>\n",
              "      <td>25.389337</td>\n",
              "    </tr>\n",
              "    <tr>\n",
              "      <th>9</th>\n",
              "      <td>4.16990</td>\n",
              "      <td>22.7573</td>\n",
              "      <td>23.962861</td>\n",
              "    </tr>\n",
              "    <tr>\n",
              "      <th>10</th>\n",
              "      <td>5.28474</td>\n",
              "      <td>26.3030</td>\n",
              "      <td>29.578695</td>\n",
              "    </tr>\n",
              "    <tr>\n",
              "      <th>11</th>\n",
              "      <td>5.59238</td>\n",
              "      <td>30.6885</td>\n",
              "      <td>31.128383</td>\n",
              "    </tr>\n",
              "    <tr>\n",
              "      <th>12</th>\n",
              "      <td>5.92091</td>\n",
              "      <td>33.9402</td>\n",
              "      <td>32.783302</td>\n",
              "    </tr>\n",
              "    <tr>\n",
              "      <th>13</th>\n",
              "      <td>6.66066</td>\n",
              "      <td>30.9228</td>\n",
              "      <td>36.509678</td>\n",
              "    </tr>\n",
              "    <tr>\n",
              "      <th>14</th>\n",
              "      <td>6.79953</td>\n",
              "      <td>34.1100</td>\n",
              "      <td>37.209214</td>\n",
              "    </tr>\n",
              "    <tr>\n",
              "      <th>15</th>\n",
              "      <td>7.97943</td>\n",
              "      <td>44.4536</td>\n",
              "      <td>43.152777</td>\n",
              "    </tr>\n",
              "    <tr>\n",
              "      <th>16</th>\n",
              "      <td>8.41536</td>\n",
              "      <td>46.5022</td>\n",
              "      <td>45.348706</td>\n",
              "    </tr>\n",
              "    <tr>\n",
              "      <th>17</th>\n",
              "      <td>8.71607</td>\n",
              "      <td>50.0568</td>\n",
              "      <td>46.863486</td>\n",
              "    </tr>\n",
              "    <tr>\n",
              "      <th>18</th>\n",
              "      <td>8.70156</td>\n",
              "      <td>46.5475</td>\n",
              "      <td>46.790394</td>\n",
              "    </tr>\n",
              "    <tr>\n",
              "      <th>19</th>\n",
              "      <td>9.16463</td>\n",
              "      <td>45.7762</td>\n",
              "      <td>49.123037</td>\n",
              "    </tr>\n",
              "    <tr>\n",
              "      <th>20</th>\n",
              "      <td>4.00000</td>\n",
              "      <td>40.0000</td>\n",
              "      <td>23.107016</td>\n",
              "    </tr>\n",
              "  </tbody>\n",
              "</table>\n",
              "</div>\n",
              "    <div class=\"colab-df-buttons\">\n",
              "\n",
              "  <div class=\"colab-df-container\">\n",
              "    <button class=\"colab-df-convert\" onclick=\"convertToInteractive('df-aae42c43-2c25-49c5-a4d9-29b0fef1cb0f')\"\n",
              "            title=\"Convert this dataframe to an interactive table.\"\n",
              "            style=\"display:none;\">\n",
              "\n",
              "  <svg xmlns=\"http://www.w3.org/2000/svg\" height=\"24px\" viewBox=\"0 -960 960 960\">\n",
              "    <path d=\"M120-120v-720h720v720H120Zm60-500h600v-160H180v160Zm220 220h160v-160H400v160Zm0 220h160v-160H400v160ZM180-400h160v-160H180v160Zm440 0h160v-160H620v160ZM180-180h160v-160H180v160Zm440 0h160v-160H620v160Z\"/>\n",
              "  </svg>\n",
              "    </button>\n",
              "\n",
              "  <style>\n",
              "    .colab-df-container {\n",
              "      display:flex;\n",
              "      gap: 12px;\n",
              "    }\n",
              "\n",
              "    .colab-df-convert {\n",
              "      background-color: #E8F0FE;\n",
              "      border: none;\n",
              "      border-radius: 50%;\n",
              "      cursor: pointer;\n",
              "      display: none;\n",
              "      fill: #1967D2;\n",
              "      height: 32px;\n",
              "      padding: 0 0 0 0;\n",
              "      width: 32px;\n",
              "    }\n",
              "\n",
              "    .colab-df-convert:hover {\n",
              "      background-color: #E2EBFA;\n",
              "      box-shadow: 0px 1px 2px rgba(60, 64, 67, 0.3), 0px 1px 3px 1px rgba(60, 64, 67, 0.15);\n",
              "      fill: #174EA6;\n",
              "    }\n",
              "\n",
              "    .colab-df-buttons div {\n",
              "      margin-bottom: 4px;\n",
              "    }\n",
              "\n",
              "    [theme=dark] .colab-df-convert {\n",
              "      background-color: #3B4455;\n",
              "      fill: #D2E3FC;\n",
              "    }\n",
              "\n",
              "    [theme=dark] .colab-df-convert:hover {\n",
              "      background-color: #434B5C;\n",
              "      box-shadow: 0px 1px 3px 1px rgba(0, 0, 0, 0.15);\n",
              "      filter: drop-shadow(0px 1px 2px rgba(0, 0, 0, 0.3));\n",
              "      fill: #FFFFFF;\n",
              "    }\n",
              "  </style>\n",
              "\n",
              "    <script>\n",
              "      const buttonEl =\n",
              "        document.querySelector('#df-aae42c43-2c25-49c5-a4d9-29b0fef1cb0f button.colab-df-convert');\n",
              "      buttonEl.style.display =\n",
              "        google.colab.kernel.accessAllowed ? 'block' : 'none';\n",
              "\n",
              "      async function convertToInteractive(key) {\n",
              "        const element = document.querySelector('#df-aae42c43-2c25-49c5-a4d9-29b0fef1cb0f');\n",
              "        const dataTable =\n",
              "          await google.colab.kernel.invokeFunction('convertToInteractive',\n",
              "                                                    [key], {});\n",
              "        if (!dataTable) return;\n",
              "\n",
              "        const docLinkHtml = 'Like what you see? Visit the ' +\n",
              "          '<a target=\"_blank\" href=https://colab.research.google.com/notebooks/data_table.ipynb>data table notebook</a>'\n",
              "          + ' to learn more about interactive tables.';\n",
              "        element.innerHTML = '';\n",
              "        dataTable['output_type'] = 'display_data';\n",
              "        await google.colab.output.renderOutput(dataTable, element);\n",
              "        const docLink = document.createElement('div');\n",
              "        docLink.innerHTML = docLinkHtml;\n",
              "        element.appendChild(docLink);\n",
              "      }\n",
              "    </script>\n",
              "  </div>\n",
              "\n",
              "\n",
              "<div id=\"df-894fb5b1-2be4-4e57-8e9e-20d6e7cba514\">\n",
              "  <button class=\"colab-df-quickchart\" onclick=\"quickchart('df-894fb5b1-2be4-4e57-8e9e-20d6e7cba514')\"\n",
              "            title=\"Suggest charts\"\n",
              "            style=\"display:none;\">\n",
              "\n",
              "<svg xmlns=\"http://www.w3.org/2000/svg\" height=\"24px\"viewBox=\"0 0 24 24\"\n",
              "     width=\"24px\">\n",
              "    <g>\n",
              "        <path d=\"M19 3H5c-1.1 0-2 .9-2 2v14c0 1.1.9 2 2 2h14c1.1 0 2-.9 2-2V5c0-1.1-.9-2-2-2zM9 17H7v-7h2v7zm4 0h-2V7h2v10zm4 0h-2v-4h2v4z\"/>\n",
              "    </g>\n",
              "</svg>\n",
              "  </button>\n",
              "\n",
              "<style>\n",
              "  .colab-df-quickchart {\n",
              "      --bg-color: #E8F0FE;\n",
              "      --fill-color: #1967D2;\n",
              "      --hover-bg-color: #E2EBFA;\n",
              "      --hover-fill-color: #174EA6;\n",
              "      --disabled-fill-color: #AAA;\n",
              "      --disabled-bg-color: #DDD;\n",
              "  }\n",
              "\n",
              "  [theme=dark] .colab-df-quickchart {\n",
              "      --bg-color: #3B4455;\n",
              "      --fill-color: #D2E3FC;\n",
              "      --hover-bg-color: #434B5C;\n",
              "      --hover-fill-color: #FFFFFF;\n",
              "      --disabled-bg-color: #3B4455;\n",
              "      --disabled-fill-color: #666;\n",
              "  }\n",
              "\n",
              "  .colab-df-quickchart {\n",
              "    background-color: var(--bg-color);\n",
              "    border: none;\n",
              "    border-radius: 50%;\n",
              "    cursor: pointer;\n",
              "    display: none;\n",
              "    fill: var(--fill-color);\n",
              "    height: 32px;\n",
              "    padding: 0;\n",
              "    width: 32px;\n",
              "  }\n",
              "\n",
              "  .colab-df-quickchart:hover {\n",
              "    background-color: var(--hover-bg-color);\n",
              "    box-shadow: 0 1px 2px rgba(60, 64, 67, 0.3), 0 1px 3px 1px rgba(60, 64, 67, 0.15);\n",
              "    fill: var(--button-hover-fill-color);\n",
              "  }\n",
              "\n",
              "  .colab-df-quickchart-complete:disabled,\n",
              "  .colab-df-quickchart-complete:disabled:hover {\n",
              "    background-color: var(--disabled-bg-color);\n",
              "    fill: var(--disabled-fill-color);\n",
              "    box-shadow: none;\n",
              "  }\n",
              "\n",
              "  .colab-df-spinner {\n",
              "    border: 2px solid var(--fill-color);\n",
              "    border-color: transparent;\n",
              "    border-bottom-color: var(--fill-color);\n",
              "    animation:\n",
              "      spin 1s steps(1) infinite;\n",
              "  }\n",
              "\n",
              "  @keyframes spin {\n",
              "    0% {\n",
              "      border-color: transparent;\n",
              "      border-bottom-color: var(--fill-color);\n",
              "      border-left-color: var(--fill-color);\n",
              "    }\n",
              "    20% {\n",
              "      border-color: transparent;\n",
              "      border-left-color: var(--fill-color);\n",
              "      border-top-color: var(--fill-color);\n",
              "    }\n",
              "    30% {\n",
              "      border-color: transparent;\n",
              "      border-left-color: var(--fill-color);\n",
              "      border-top-color: var(--fill-color);\n",
              "      border-right-color: var(--fill-color);\n",
              "    }\n",
              "    40% {\n",
              "      border-color: transparent;\n",
              "      border-right-color: var(--fill-color);\n",
              "      border-top-color: var(--fill-color);\n",
              "    }\n",
              "    60% {\n",
              "      border-color: transparent;\n",
              "      border-right-color: var(--fill-color);\n",
              "    }\n",
              "    80% {\n",
              "      border-color: transparent;\n",
              "      border-right-color: var(--fill-color);\n",
              "      border-bottom-color: var(--fill-color);\n",
              "    }\n",
              "    90% {\n",
              "      border-color: transparent;\n",
              "      border-bottom-color: var(--fill-color);\n",
              "    }\n",
              "  }\n",
              "</style>\n",
              "\n",
              "  <script>\n",
              "    async function quickchart(key) {\n",
              "      const quickchartButtonEl =\n",
              "        document.querySelector('#' + key + ' button');\n",
              "      quickchartButtonEl.disabled = true;  // To prevent multiple clicks.\n",
              "      quickchartButtonEl.classList.add('colab-df-spinner');\n",
              "      try {\n",
              "        const charts = await google.colab.kernel.invokeFunction(\n",
              "            'suggestCharts', [key], {});\n",
              "      } catch (error) {\n",
              "        console.error('Error during call to suggestCharts:', error);\n",
              "      }\n",
              "      quickchartButtonEl.classList.remove('colab-df-spinner');\n",
              "      quickchartButtonEl.classList.add('colab-df-quickchart-complete');\n",
              "    }\n",
              "    (() => {\n",
              "      let quickchartButtonEl =\n",
              "        document.querySelector('#df-894fb5b1-2be4-4e57-8e9e-20d6e7cba514 button');\n",
              "      quickchartButtonEl.style.display =\n",
              "        google.colab.kernel.accessAllowed ? 'block' : 'none';\n",
              "    })();\n",
              "  </script>\n",
              "</div>\n",
              "    </div>\n",
              "  </div>\n"
            ],
            "application/vnd.google.colaboratory.intrinsic+json": {
              "type": "dataframe",
              "variable_name": "mydataframe",
              "summary": "{\n  \"name\": \"mydataframe\",\n  \"rows\": 21,\n  \"fields\": [\n    {\n      \"column\": \"x\",\n      \"properties\": {\n        \"dtype\": \"number\",\n        \"std\": 2.8992440579634184,\n        \"min\": 0.1,\n        \"max\": 9.16463,\n        \"num_unique_values\": 21,\n        \"samples\": [\n          0.1,\n          8.71607,\n          7.97943\n        ],\n        \"semantic_type\": \"\",\n        \"description\": \"\"\n      }\n    },\n    {\n      \"column\": \"y\",\n      \"properties\": {\n        \"dtype\": \"number\",\n        \"std\": 15.30923830059733,\n        \"min\": -0.0716,\n        \"max\": 50.0568,\n        \"num_unique_values\": 21,\n        \"samples\": [\n          -0.0716,\n          50.0568,\n          44.4536\n        ],\n        \"semantic_type\": \"\",\n        \"description\": \"\"\n      }\n    },\n    {\n      \"column\": \"y fit\",\n      \"properties\": {\n        \"dtype\": \"number\",\n        \"std\": 14.6044914055641,\n        \"min\": 3.4613724962670855,\n        \"max\": 49.123037496837,\n        \"num_unique_values\": 21,\n        \"samples\": [\n          3.4613724962670855,\n          46.86348620211723,\n          43.15277667442334\n        ],\n        \"semantic_type\": \"\",\n        \"description\": \"\"\n      }\n    }\n  ]\n}"
            }
          },
          "metadata": {},
          "execution_count": 7
        }
      ]
    },
    {
      "cell_type": "code",
      "source": [
        "#5 Calculate the residuals on y (“y residuals”) and add them to the data frame.\n",
        "my_model.resid"
      ],
      "metadata": {
        "colab": {
          "base_uri": "https://localhost:8080/"
        },
        "id": "z7MlXbDNK1uC",
        "outputId": "618eed96-bb5c-4b3f-b159-ec0f45464179"
      },
      "execution_count": null,
      "outputs": [
        {
          "output_type": "execute_result",
          "data": {
            "text/plain": [
              "0     -3.532972\n",
              "1     -1.077343\n",
              "2     -1.916579\n",
              "3      4.412785\n",
              "4     -2.620474\n",
              "5     -2.598823\n",
              "6      1.884823\n",
              "7     -1.694329\n",
              "8      0.642363\n",
              "9     -1.205561\n",
              "10    -3.275695\n",
              "11    -0.439883\n",
              "12     1.156898\n",
              "13    -5.586878\n",
              "14    -3.099214\n",
              "15     1.300823\n",
              "16     1.153494\n",
              "17     3.193314\n",
              "18    -0.242894\n",
              "19    -3.346837\n",
              "20    16.892984\n",
              "dtype: float64"
            ]
          },
          "metadata": {},
          "execution_count": 8
        }
      ]
    },
    {
      "cell_type": "code",
      "source": [
        "mydataframe[\"y residuals\"] = my_model.resid"
      ],
      "metadata": {
        "id": "4CerNwFjLTnw"
      },
      "execution_count": null,
      "outputs": []
    },
    {
      "cell_type": "code",
      "source": [
        "mydataframe"
      ],
      "metadata": {
        "colab": {
          "base_uri": "https://localhost:8080/",
          "height": 707
        },
        "id": "H5yj1OTJLZEP",
        "outputId": "696bf4db-dfdd-4b81-c177-040239345228"
      },
      "execution_count": null,
      "outputs": [
        {
          "output_type": "execute_result",
          "data": {
            "text/plain": [
              "          x        y      y fit  y residuals\n",
              "0   0.10000  -0.0716   3.461372    -3.532972\n",
              "1   0.45401   4.1673   5.244643    -1.077343\n",
              "2   1.09765   6.5703   8.486879    -1.916579\n",
              "3   1.27936  13.8150   9.402215     4.412785\n",
              "4   2.20611  11.4501  14.070574    -2.620474\n",
              "5   2.50064  12.9554  15.554223    -2.598823\n",
              "6   3.04030  20.1575  18.272677     1.884823\n",
              "7   3.23583  17.5633  19.257629    -1.694329\n",
              "8   4.45308  26.0317  25.389337     0.642363\n",
              "9   4.16990  22.7573  23.962861    -1.205561\n",
              "10  5.28474  26.3030  29.578695    -3.275695\n",
              "11  5.59238  30.6885  31.128383    -0.439883\n",
              "12  5.92091  33.9402  32.783302     1.156898\n",
              "13  6.66066  30.9228  36.509678    -5.586878\n",
              "14  6.79953  34.1100  37.209214    -3.099214\n",
              "15  7.97943  44.4536  43.152777     1.300823\n",
              "16  8.41536  46.5022  45.348706     1.153494\n",
              "17  8.71607  50.0568  46.863486     3.193314\n",
              "18  8.70156  46.5475  46.790394    -0.242894\n",
              "19  9.16463  45.7762  49.123037    -3.346837\n",
              "20  4.00000  40.0000  23.107016    16.892984"
            ],
            "text/html": [
              "\n",
              "  <div id=\"df-57660e98-c256-4875-90df-9ff8c0c7df41\" class=\"colab-df-container\">\n",
              "    <div>\n",
              "<style scoped>\n",
              "    .dataframe tbody tr th:only-of-type {\n",
              "        vertical-align: middle;\n",
              "    }\n",
              "\n",
              "    .dataframe tbody tr th {\n",
              "        vertical-align: top;\n",
              "    }\n",
              "\n",
              "    .dataframe thead th {\n",
              "        text-align: right;\n",
              "    }\n",
              "</style>\n",
              "<table border=\"1\" class=\"dataframe\">\n",
              "  <thead>\n",
              "    <tr style=\"text-align: right;\">\n",
              "      <th></th>\n",
              "      <th>x</th>\n",
              "      <th>y</th>\n",
              "      <th>y fit</th>\n",
              "      <th>y residuals</th>\n",
              "    </tr>\n",
              "  </thead>\n",
              "  <tbody>\n",
              "    <tr>\n",
              "      <th>0</th>\n",
              "      <td>0.10000</td>\n",
              "      <td>-0.0716</td>\n",
              "      <td>3.461372</td>\n",
              "      <td>-3.532972</td>\n",
              "    </tr>\n",
              "    <tr>\n",
              "      <th>1</th>\n",
              "      <td>0.45401</td>\n",
              "      <td>4.1673</td>\n",
              "      <td>5.244643</td>\n",
              "      <td>-1.077343</td>\n",
              "    </tr>\n",
              "    <tr>\n",
              "      <th>2</th>\n",
              "      <td>1.09765</td>\n",
              "      <td>6.5703</td>\n",
              "      <td>8.486879</td>\n",
              "      <td>-1.916579</td>\n",
              "    </tr>\n",
              "    <tr>\n",
              "      <th>3</th>\n",
              "      <td>1.27936</td>\n",
              "      <td>13.8150</td>\n",
              "      <td>9.402215</td>\n",
              "      <td>4.412785</td>\n",
              "    </tr>\n",
              "    <tr>\n",
              "      <th>4</th>\n",
              "      <td>2.20611</td>\n",
              "      <td>11.4501</td>\n",
              "      <td>14.070574</td>\n",
              "      <td>-2.620474</td>\n",
              "    </tr>\n",
              "    <tr>\n",
              "      <th>5</th>\n",
              "      <td>2.50064</td>\n",
              "      <td>12.9554</td>\n",
              "      <td>15.554223</td>\n",
              "      <td>-2.598823</td>\n",
              "    </tr>\n",
              "    <tr>\n",
              "      <th>6</th>\n",
              "      <td>3.04030</td>\n",
              "      <td>20.1575</td>\n",
              "      <td>18.272677</td>\n",
              "      <td>1.884823</td>\n",
              "    </tr>\n",
              "    <tr>\n",
              "      <th>7</th>\n",
              "      <td>3.23583</td>\n",
              "      <td>17.5633</td>\n",
              "      <td>19.257629</td>\n",
              "      <td>-1.694329</td>\n",
              "    </tr>\n",
              "    <tr>\n",
              "      <th>8</th>\n",
              "      <td>4.45308</td>\n",
              "      <td>26.0317</td>\n",
              "      <td>25.389337</td>\n",
              "      <td>0.642363</td>\n",
              "    </tr>\n",
              "    <tr>\n",
              "      <th>9</th>\n",
              "      <td>4.16990</td>\n",
              "      <td>22.7573</td>\n",
              "      <td>23.962861</td>\n",
              "      <td>-1.205561</td>\n",
              "    </tr>\n",
              "    <tr>\n",
              "      <th>10</th>\n",
              "      <td>5.28474</td>\n",
              "      <td>26.3030</td>\n",
              "      <td>29.578695</td>\n",
              "      <td>-3.275695</td>\n",
              "    </tr>\n",
              "    <tr>\n",
              "      <th>11</th>\n",
              "      <td>5.59238</td>\n",
              "      <td>30.6885</td>\n",
              "      <td>31.128383</td>\n",
              "      <td>-0.439883</td>\n",
              "    </tr>\n",
              "    <tr>\n",
              "      <th>12</th>\n",
              "      <td>5.92091</td>\n",
              "      <td>33.9402</td>\n",
              "      <td>32.783302</td>\n",
              "      <td>1.156898</td>\n",
              "    </tr>\n",
              "    <tr>\n",
              "      <th>13</th>\n",
              "      <td>6.66066</td>\n",
              "      <td>30.9228</td>\n",
              "      <td>36.509678</td>\n",
              "      <td>-5.586878</td>\n",
              "    </tr>\n",
              "    <tr>\n",
              "      <th>14</th>\n",
              "      <td>6.79953</td>\n",
              "      <td>34.1100</td>\n",
              "      <td>37.209214</td>\n",
              "      <td>-3.099214</td>\n",
              "    </tr>\n",
              "    <tr>\n",
              "      <th>15</th>\n",
              "      <td>7.97943</td>\n",
              "      <td>44.4536</td>\n",
              "      <td>43.152777</td>\n",
              "      <td>1.300823</td>\n",
              "    </tr>\n",
              "    <tr>\n",
              "      <th>16</th>\n",
              "      <td>8.41536</td>\n",
              "      <td>46.5022</td>\n",
              "      <td>45.348706</td>\n",
              "      <td>1.153494</td>\n",
              "    </tr>\n",
              "    <tr>\n",
              "      <th>17</th>\n",
              "      <td>8.71607</td>\n",
              "      <td>50.0568</td>\n",
              "      <td>46.863486</td>\n",
              "      <td>3.193314</td>\n",
              "    </tr>\n",
              "    <tr>\n",
              "      <th>18</th>\n",
              "      <td>8.70156</td>\n",
              "      <td>46.5475</td>\n",
              "      <td>46.790394</td>\n",
              "      <td>-0.242894</td>\n",
              "    </tr>\n",
              "    <tr>\n",
              "      <th>19</th>\n",
              "      <td>9.16463</td>\n",
              "      <td>45.7762</td>\n",
              "      <td>49.123037</td>\n",
              "      <td>-3.346837</td>\n",
              "    </tr>\n",
              "    <tr>\n",
              "      <th>20</th>\n",
              "      <td>4.00000</td>\n",
              "      <td>40.0000</td>\n",
              "      <td>23.107016</td>\n",
              "      <td>16.892984</td>\n",
              "    </tr>\n",
              "  </tbody>\n",
              "</table>\n",
              "</div>\n",
              "    <div class=\"colab-df-buttons\">\n",
              "\n",
              "  <div class=\"colab-df-container\">\n",
              "    <button class=\"colab-df-convert\" onclick=\"convertToInteractive('df-57660e98-c256-4875-90df-9ff8c0c7df41')\"\n",
              "            title=\"Convert this dataframe to an interactive table.\"\n",
              "            style=\"display:none;\">\n",
              "\n",
              "  <svg xmlns=\"http://www.w3.org/2000/svg\" height=\"24px\" viewBox=\"0 -960 960 960\">\n",
              "    <path d=\"M120-120v-720h720v720H120Zm60-500h600v-160H180v160Zm220 220h160v-160H400v160Zm0 220h160v-160H400v160ZM180-400h160v-160H180v160Zm440 0h160v-160H620v160ZM180-180h160v-160H180v160Zm440 0h160v-160H620v160Z\"/>\n",
              "  </svg>\n",
              "    </button>\n",
              "\n",
              "  <style>\n",
              "    .colab-df-container {\n",
              "      display:flex;\n",
              "      gap: 12px;\n",
              "    }\n",
              "\n",
              "    .colab-df-convert {\n",
              "      background-color: #E8F0FE;\n",
              "      border: none;\n",
              "      border-radius: 50%;\n",
              "      cursor: pointer;\n",
              "      display: none;\n",
              "      fill: #1967D2;\n",
              "      height: 32px;\n",
              "      padding: 0 0 0 0;\n",
              "      width: 32px;\n",
              "    }\n",
              "\n",
              "    .colab-df-convert:hover {\n",
              "      background-color: #E2EBFA;\n",
              "      box-shadow: 0px 1px 2px rgba(60, 64, 67, 0.3), 0px 1px 3px 1px rgba(60, 64, 67, 0.15);\n",
              "      fill: #174EA6;\n",
              "    }\n",
              "\n",
              "    .colab-df-buttons div {\n",
              "      margin-bottom: 4px;\n",
              "    }\n",
              "\n",
              "    [theme=dark] .colab-df-convert {\n",
              "      background-color: #3B4455;\n",
              "      fill: #D2E3FC;\n",
              "    }\n",
              "\n",
              "    [theme=dark] .colab-df-convert:hover {\n",
              "      background-color: #434B5C;\n",
              "      box-shadow: 0px 1px 3px 1px rgba(0, 0, 0, 0.15);\n",
              "      filter: drop-shadow(0px 1px 2px rgba(0, 0, 0, 0.3));\n",
              "      fill: #FFFFFF;\n",
              "    }\n",
              "  </style>\n",
              "\n",
              "    <script>\n",
              "      const buttonEl =\n",
              "        document.querySelector('#df-57660e98-c256-4875-90df-9ff8c0c7df41 button.colab-df-convert');\n",
              "      buttonEl.style.display =\n",
              "        google.colab.kernel.accessAllowed ? 'block' : 'none';\n",
              "\n",
              "      async function convertToInteractive(key) {\n",
              "        const element = document.querySelector('#df-57660e98-c256-4875-90df-9ff8c0c7df41');\n",
              "        const dataTable =\n",
              "          await google.colab.kernel.invokeFunction('convertToInteractive',\n",
              "                                                    [key], {});\n",
              "        if (!dataTable) return;\n",
              "\n",
              "        const docLinkHtml = 'Like what you see? Visit the ' +\n",
              "          '<a target=\"_blank\" href=https://colab.research.google.com/notebooks/data_table.ipynb>data table notebook</a>'\n",
              "          + ' to learn more about interactive tables.';\n",
              "        element.innerHTML = '';\n",
              "        dataTable['output_type'] = 'display_data';\n",
              "        await google.colab.output.renderOutput(dataTable, element);\n",
              "        const docLink = document.createElement('div');\n",
              "        docLink.innerHTML = docLinkHtml;\n",
              "        element.appendChild(docLink);\n",
              "      }\n",
              "    </script>\n",
              "  </div>\n",
              "\n",
              "\n",
              "<div id=\"df-9157b660-0904-4ca6-a0ca-d37e0a435ca2\">\n",
              "  <button class=\"colab-df-quickchart\" onclick=\"quickchart('df-9157b660-0904-4ca6-a0ca-d37e0a435ca2')\"\n",
              "            title=\"Suggest charts\"\n",
              "            style=\"display:none;\">\n",
              "\n",
              "<svg xmlns=\"http://www.w3.org/2000/svg\" height=\"24px\"viewBox=\"0 0 24 24\"\n",
              "     width=\"24px\">\n",
              "    <g>\n",
              "        <path d=\"M19 3H5c-1.1 0-2 .9-2 2v14c0 1.1.9 2 2 2h14c1.1 0 2-.9 2-2V5c0-1.1-.9-2-2-2zM9 17H7v-7h2v7zm4 0h-2V7h2v10zm4 0h-2v-4h2v4z\"/>\n",
              "    </g>\n",
              "</svg>\n",
              "  </button>\n",
              "\n",
              "<style>\n",
              "  .colab-df-quickchart {\n",
              "      --bg-color: #E8F0FE;\n",
              "      --fill-color: #1967D2;\n",
              "      --hover-bg-color: #E2EBFA;\n",
              "      --hover-fill-color: #174EA6;\n",
              "      --disabled-fill-color: #AAA;\n",
              "      --disabled-bg-color: #DDD;\n",
              "  }\n",
              "\n",
              "  [theme=dark] .colab-df-quickchart {\n",
              "      --bg-color: #3B4455;\n",
              "      --fill-color: #D2E3FC;\n",
              "      --hover-bg-color: #434B5C;\n",
              "      --hover-fill-color: #FFFFFF;\n",
              "      --disabled-bg-color: #3B4455;\n",
              "      --disabled-fill-color: #666;\n",
              "  }\n",
              "\n",
              "  .colab-df-quickchart {\n",
              "    background-color: var(--bg-color);\n",
              "    border: none;\n",
              "    border-radius: 50%;\n",
              "    cursor: pointer;\n",
              "    display: none;\n",
              "    fill: var(--fill-color);\n",
              "    height: 32px;\n",
              "    padding: 0;\n",
              "    width: 32px;\n",
              "  }\n",
              "\n",
              "  .colab-df-quickchart:hover {\n",
              "    background-color: var(--hover-bg-color);\n",
              "    box-shadow: 0 1px 2px rgba(60, 64, 67, 0.3), 0 1px 3px 1px rgba(60, 64, 67, 0.15);\n",
              "    fill: var(--button-hover-fill-color);\n",
              "  }\n",
              "\n",
              "  .colab-df-quickchart-complete:disabled,\n",
              "  .colab-df-quickchart-complete:disabled:hover {\n",
              "    background-color: var(--disabled-bg-color);\n",
              "    fill: var(--disabled-fill-color);\n",
              "    box-shadow: none;\n",
              "  }\n",
              "\n",
              "  .colab-df-spinner {\n",
              "    border: 2px solid var(--fill-color);\n",
              "    border-color: transparent;\n",
              "    border-bottom-color: var(--fill-color);\n",
              "    animation:\n",
              "      spin 1s steps(1) infinite;\n",
              "  }\n",
              "\n",
              "  @keyframes spin {\n",
              "    0% {\n",
              "      border-color: transparent;\n",
              "      border-bottom-color: var(--fill-color);\n",
              "      border-left-color: var(--fill-color);\n",
              "    }\n",
              "    20% {\n",
              "      border-color: transparent;\n",
              "      border-left-color: var(--fill-color);\n",
              "      border-top-color: var(--fill-color);\n",
              "    }\n",
              "    30% {\n",
              "      border-color: transparent;\n",
              "      border-left-color: var(--fill-color);\n",
              "      border-top-color: var(--fill-color);\n",
              "      border-right-color: var(--fill-color);\n",
              "    }\n",
              "    40% {\n",
              "      border-color: transparent;\n",
              "      border-right-color: var(--fill-color);\n",
              "      border-top-color: var(--fill-color);\n",
              "    }\n",
              "    60% {\n",
              "      border-color: transparent;\n",
              "      border-right-color: var(--fill-color);\n",
              "    }\n",
              "    80% {\n",
              "      border-color: transparent;\n",
              "      border-right-color: var(--fill-color);\n",
              "      border-bottom-color: var(--fill-color);\n",
              "    }\n",
              "    90% {\n",
              "      border-color: transparent;\n",
              "      border-bottom-color: var(--fill-color);\n",
              "    }\n",
              "  }\n",
              "</style>\n",
              "\n",
              "  <script>\n",
              "    async function quickchart(key) {\n",
              "      const quickchartButtonEl =\n",
              "        document.querySelector('#' + key + ' button');\n",
              "      quickchartButtonEl.disabled = true;  // To prevent multiple clicks.\n",
              "      quickchartButtonEl.classList.add('colab-df-spinner');\n",
              "      try {\n",
              "        const charts = await google.colab.kernel.invokeFunction(\n",
              "            'suggestCharts', [key], {});\n",
              "      } catch (error) {\n",
              "        console.error('Error during call to suggestCharts:', error);\n",
              "      }\n",
              "      quickchartButtonEl.classList.remove('colab-df-spinner');\n",
              "      quickchartButtonEl.classList.add('colab-df-quickchart-complete');\n",
              "    }\n",
              "    (() => {\n",
              "      let quickchartButtonEl =\n",
              "        document.querySelector('#df-9157b660-0904-4ca6-a0ca-d37e0a435ca2 button');\n",
              "      quickchartButtonEl.style.display =\n",
              "        google.colab.kernel.accessAllowed ? 'block' : 'none';\n",
              "    })();\n",
              "  </script>\n",
              "</div>\n",
              "    </div>\n",
              "  </div>\n"
            ],
            "application/vnd.google.colaboratory.intrinsic+json": {
              "type": "dataframe",
              "variable_name": "mydataframe",
              "summary": "{\n  \"name\": \"mydataframe\",\n  \"rows\": 21,\n  \"fields\": [\n    {\n      \"column\": \"x\",\n      \"properties\": {\n        \"dtype\": \"number\",\n        \"std\": 2.8992440579634184,\n        \"min\": 0.1,\n        \"max\": 9.16463,\n        \"num_unique_values\": 21,\n        \"samples\": [\n          0.1,\n          8.71607,\n          7.97943\n        ],\n        \"semantic_type\": \"\",\n        \"description\": \"\"\n      }\n    },\n    {\n      \"column\": \"y\",\n      \"properties\": {\n        \"dtype\": \"number\",\n        \"std\": 15.30923830059733,\n        \"min\": -0.0716,\n        \"max\": 50.0568,\n        \"num_unique_values\": 21,\n        \"samples\": [\n          -0.0716,\n          50.0568,\n          44.4536\n        ],\n        \"semantic_type\": \"\",\n        \"description\": \"\"\n      }\n    },\n    {\n      \"column\": \"y fit\",\n      \"properties\": {\n        \"dtype\": \"number\",\n        \"std\": 14.6044914055641,\n        \"min\": 3.4613724962670855,\n        \"max\": 49.123037496837,\n        \"num_unique_values\": 21,\n        \"samples\": [\n          3.4613724962670855,\n          46.86348620211723,\n          43.15277667442334\n        ],\n        \"semantic_type\": \"\",\n        \"description\": \"\"\n      }\n    },\n    {\n      \"column\": \"y residuals\",\n      \"properties\": {\n        \"dtype\": \"number\",\n        \"std\": 4.59147123798904,\n        \"min\": -5.586877733506665,\n        \"max\": 16.892983555527344,\n        \"num_unique_values\": 21,\n        \"samples\": [\n          -3.5329724962670856,\n          3.193313797882773,\n          1.3008233255766584\n        ],\n        \"semantic_type\": \"\",\n        \"description\": \"\"\n      }\n    }\n  ]\n}"
            }
          },
          "metadata": {},
          "execution_count": 10
        }
      ]
    },
    {
      "cell_type": "markdown",
      "source": [],
      "metadata": {
        "id": "uuJd7SfmMvmF"
      }
    },
    {
      "cell_type": "code",
      "source": [
        "#6 Plot the residuals versus y fits.  y fit = x-axis,  residuals = y axis\n",
        "\n",
        "import matplotlib.pyplot as plt\n",
        "plt.plot(mydataframe.iloc[:,2], mydataframe.iloc[:,3],marker='o', linestyle=\"\", color = 'red')\n",
        "plt.xlabel('y fit')\n",
        "plt.ylabel('residuals')"
      ],
      "metadata": {
        "colab": {
          "base_uri": "https://localhost:8080/",
          "height": 466
        },
        "id": "1CwDO698MQJZ",
        "outputId": "a453e137-3172-4cba-8530-68673ce4bc25"
      },
      "execution_count": null,
      "outputs": [
        {
          "output_type": "execute_result",
          "data": {
            "text/plain": [
              "Text(0, 0.5, 'residuals')"
            ]
          },
          "metadata": {},
          "execution_count": 11
        },
        {
          "output_type": "display_data",
          "data": {
            "text/plain": [
              "<Figure size 640x480 with 1 Axes>"
            ],
            "image/png": "[encoded data removed]"
          },
          "metadata": {}
        }
      ]
    },
    {
      "cell_type": "code",
      "source": [
        "import statsmodels.api as sm\n",
        "x = mydataframe.iloc[:,2]\n",
        "y = mydataframe.iloc[:,3]\n",
        "x = sm.add_constant(x)\n",
        "\n",
        "my_model = sm.OLS(y,x).fit()\n",
        "print(my_model.summary())\n",
        "\n",
        "fig,ax = plt.subplots()\n",
        "fig = sm.graphics.plot_fit(my_model,1,ax=ax, vlines = False, ls = \"-\", marker = \"None\")   #what does true/false mean here"
      ],
      "metadata": {
        "colab": {
          "base_uri": "https://localhost:8080/",
          "height": 961
        },
        "id": "bYXyX4wkO1d8",
        "outputId": "4663ba0e-3003-4549-8463-b34f311a3c10"
      },
      "execution_count": null,
      "outputs": [
        {
          "output_type": "stream",
          "name": "stdout",
          "text": [
            "                            OLS Regression Results                            \n",
            "==============================================================================\n",
            "Dep. Variable:            y residuals   R-squared:                       0.000\n",
            "Model:                            OLS   Adj. R-squared:                 -0.053\n",
            "Method:                 Least Squares   F-statistic:                     0.000\n",
            "Date:                Fri, 01 Mar 2024   Prob (F-statistic):               1.00\n",
            "Time:                        11:27:00   Log-Likelihood:                -61.294\n",
            "No. Observations:                  21   AIC:                             126.6\n",
            "Df Residuals:                      19   BIC:                             128.7\n",
            "Df Model:                           1                                         \n",
            "Covariance Type:            nonrobust                                         \n",
            "==============================================================================\n",
            "                 coef    std err          t      P>|t|      [0.025      0.975]\n",
            "------------------------------------------------------------------------------\n",
            "const      -6.306e-15      2.195  -2.87e-15      1.000      -4.594       4.594\n",
            "y fit      -2.191e-16      0.072  -3.04e-15      1.000      -0.151       0.151\n",
            "==============================================================================\n",
            "Omnibus:                       30.102   Durbin-Watson:                   1.564\n",
            "Prob(Omnibus):                  0.000   Jarque-Bera (JB):               61.821\n",
            "Skew:                           2.424   Prob(JB):                     3.76e-14\n",
            "Kurtosis:                       9.866   Cond. No.                         65.0\n",
            "==============================================================================\n",
            "\n",
            "Notes:\n",
            "[1] Standard Errors assume that the covariance matrix of the errors is correctly specified.\n"
          ]
        },
        {
          "output_type": "stream",
          "name": "stderr",
          "text": [
            "/usr/local/lib/python3.10/dist-packages/statsmodels/graphics/regressionplots.py:157: UserWarning: marker is redundantly defined by the 'marker' keyword argument and the fmt string \"D\" (-> marker='D'). The keyword argument will take precedence.\n",
            "  ax.plot(x1, results.fittedvalues[x1_argsort], 'D', color='r',\n"
          ]
        },
        {
          "output_type": "display_data",
          "data": {
            "text/plain": [
              "<Figure size 640x480 with 1 Axes>"
            ],
            "image/png": "[encoded data removed]"
          },
          "metadata": {}
        }
      ]
    },
    {
      "cell_type": "code",
      "source": [
        "#we see that where the y fit is about 24, the y residuals is way over 15, we can therefore conclude this to be an outlier"
      ],
      "metadata": {
        "id": "ou0v3altRV_B"
      },
      "execution_count": null,
      "outputs": []
    },
    {
      "cell_type": "code",
      "source": [
        "#plt.hist(mydataframe[\"Calories\"])\n",
        "#7 Plot a histogram of the residuals Identify any outlying data points.\n",
        "\n",
        "plt.hist(mydataframe[\"y residuals\"])"
      ],
      "metadata": {
        "colab": {
          "base_uri": "https://localhost:8080/",
          "height": 517
        },
        "id": "g4qbXHe5Oxka",
        "outputId": "fb7f91be-ae5f-46c3-d257-d83426c73e3d"
      },
      "execution_count": null,
      "outputs": [
        {
          "output_type": "execute_result",
          "data": {
            "text/plain": [
              "(array([3., 7., 6., 3., 1., 0., 0., 0., 0., 1.]),\n",
              " array([-5.58687773, -3.3388916 , -1.09090548,  1.15708065,  3.40506678,\n",
              "         5.65305291,  7.90103904, 10.14902517, 12.3970113 , 14.64499743,\n",
              "        16.89298356]),\n",
              " <BarContainer object of 10 artists>)"
            ]
          },
          "metadata": {},
          "execution_count": 14
        },
        {
          "output_type": "display_data",
          "data": {
            "text/plain": [
              "<Figure size 640x480 with 1 Axes>"
            ],
            "image/png": "[encoded data removed]"
          },
          "metadata": {}
        }
      ]
    },
    {
      "cell_type": "code",
      "source": [
        "# more confirmation of the outlier"
      ],
      "metadata": {
        "id": "K_HXAWaXQnIR"
      },
      "execution_count": null,
      "outputs": []
    },
    {
      "cell_type": "code",
      "source": [
        "#Test the normality of the residuals using a QQ plot. Use the following general procedure:\n",
        "#Does the QQ plot indicate that the residuals are normally distributed?\n",
        "\n",
        "#import scipy.stats as stats stats.probplot(df['y residuals'], dist=\"norm\", plot=plt)\n",
        "\n"
      ],
      "metadata": {
        "id": "7eBIHkM9RyIK"
      },
      "execution_count": null,
      "outputs": []
    },
    {
      "cell_type": "code",
      "source": [
        "import scipy.stats as stats\n",
        "import pandas as pd\n",
        "import matplotlib.pyplot as plt\n",
        "\n",
        "stats.probplot(mydataframe['y residuals'], dist=\"norm\", plot=plt)"
      ],
      "metadata": {
        "colab": {
          "base_uri": "https://localhost:8080/",
          "height": 663
        },
        "id": "6gzmYu1ER58V",
        "outputId": "b7e5013c-a755-4695-a438-8bb33bc25e8d"
      },
      "execution_count": null,
      "outputs": [
        {
          "output_type": "execute_result",
          "data": {
            "text/plain": [
              "((array([-1.84569542, -1.41352783, -1.14765351, -0.94487504, -0.77501005,\n",
              "         -0.62504005, -0.48799157, -0.35957249, -0.23684388, -0.11759451,\n",
              "          0.        ,  0.11759451,  0.23684388,  0.35957249,  0.48799157,\n",
              "          0.62504005,  0.77501005,  0.94487504,  1.14765351,  1.41352783,\n",
              "          1.84569542]),\n",
              "  array([-5.58687773, -3.5329725 , -3.3468375 , -3.27569455, -3.09921378,\n",
              "         -2.62047434, -2.59882344, -1.91657934, -1.69432882, -1.20556129,\n",
              "         -1.07734286, -0.43988324, -0.24289433,  0.64236346,  1.15349369,\n",
              "          1.15689794,  1.30082333,  1.88482317,  3.1933138 ,  4.41278477,\n",
              "         16.89298356])),\n",
              " (4.094809725034618, -1.2353919357342382e-14, 0.8480927260880982))"
            ]
          },
          "metadata": {},
          "execution_count": 17
        },
        {
          "output_type": "display_data",
          "data": {
            "text/plain": [
              "<Figure size 640x480 with 1 Axes>"
            ],
            "image/png": "[encoded data removed]"
          },
          "metadata": {}
        }
      ]
    },
    {
      "cell_type": "markdown",
      "source": [
        "Does the QQ plot indicate that the residuals are normally distributed?\n",
        "\n",
        "\n",
        "Yes it does, all except the one outlier follow the residual line"
      ],
      "metadata": {
        "id": "FKHPJkjEYQ21"
      }
    },
    {
      "cell_type": "code",
      "source": [
        "#9 Test the normality of the residuals using the Shapiro Wilks test or the the Kolmogorov-Smirnov test. Use the following general procedure:\n",
        "#from scipy.stats import shapiro from scipy.stats import kstest\n",
        "#print(shapiro(df[\"y residuals\"]))\n",
        "#print(kstest(df[\"y residuals\"], 'norm'))"
      ],
      "metadata": {
        "id": "ExW265GVW8qP"
      },
      "execution_count": null,
      "outputs": []
    },
    {
      "cell_type": "code",
      "source": [
        "from scipy.stats import shapiro\n",
        "from scipy.stats import kstest\n",
        "\n",
        "print(shapiro(mydataframe[\"y residuals\"]))\n",
        "print(kstest(mydataframe[\"y residuals\"], 'norm'))"
      ],
      "metadata": {
        "colab": {
          "base_uri": "https://localhost:8080/"
        },
        "id": "0qZNrBqXXKFV",
        "outputId": "8857d56a-ec1d-4c51-9e8a-bf7033cf91c3"
      },
      "execution_count": null,
      "outputs": [
        {
          "output_type": "stream",
          "name": "stdout",
          "text": [
            "ShapiroResult(statistic=0.7492746114730835, pvalue=0.00012113500997656956)\n",
            "KstestResult(statistic=0.3834700200442271, pvalue=0.0027467533026463986, statistic_location=-1.6943288198828448, statistic_sign=1)\n"
          ]
        }
      ]
    },
    {
      "cell_type": "code",
      "source": [],
      "metadata": {
        "id": "KqPa0AupYoZD"
      },
      "execution_count": null,
      "outputs": []
    },
    {
      "cell_type": "markdown",
      "source": [
        "10. Statsmodels.api has a neat feature called get_influence() which enables you to quickly call information about outliers and points of influence.\n",
        "\n",
        "Please read the link briefly to see what it can do: https://www.statsmodels.org/dev/generated/statsmodels.stats.outliers_influence.OLSInfluence.html\n",
        "\n",
        "Get the influence data from statsmodels.api ols output: influence = model.get_influence() #where model is the name of the ols output you have chosen"
      ],
      "metadata": {
        "id": "B-wa33jqYiSx"
      }
    },
    {
      "cell_type": "code",
      "source": [
        "influence = my_model.get_influence()\n",
        "influence"
      ],
      "metadata": {
        "id": "YaUlVc-6Yltu",
        "colab": {
          "base_uri": "https://localhost:8080/"
        },
        "outputId": "b64798eb-f56c-4cfd-e39a-dfcadd7ed051"
      },
      "execution_count": null,
      "outputs": [
        {
          "output_type": "execute_result",
          "data": {
            "text/plain": [
              "<statsmodels.stats.outliers_influence.OLSInfluence at 0x7a0dc03c00a0>"
            ]
          },
          "metadata": {},
          "execution_count": 20
        }
      ]
    },
    {
      "cell_type": "code",
      "source": [
        "influence"
      ],
      "metadata": {
        "colab": {
          "base_uri": "https://localhost:8080/"
        },
        "id": "Gt9EnKbKXjrD",
        "outputId": "9867d037-50d8-4844-94d3-1fefcc3eb2e4"
      },
      "execution_count": null,
      "outputs": [
        {
          "output_type": "execute_result",
          "data": {
            "text/plain": [
              "<statsmodels.stats.outliers_influence.OLSInfluence at 0x7a0dc03c00a0>"
            ]
          },
          "metadata": {},
          "execution_count": 21
        }
      ]
    },
    {
      "cell_type": "code",
      "source": [
        "#11. Plot the leverage against the x values. Get the leverage using leverage = influence.hat_matrix_diag Explain why this plot has this particular shape\n",
        "\n",
        "leverage = influence.hat_matrix_diag\n",
        "leverage"
      ],
      "metadata": {
        "colab": {
          "base_uri": "https://localhost:8080/"
        },
        "id": "kWjPFU_cXyvX",
        "outputId": "90e3d5f5-0555-4b03-e453-eb13e36cdf45"
      },
      "execution_count": null,
      "outputs": [
        {
          "output_type": "execute_result",
          "data": {
            "text/plain": [
              "array([0.17629677, 0.15745391, 0.12701457, 0.11931316, 0.08614534,\n",
              "       0.07774395, 0.06502813, 0.06127602, 0.0481472 , 0.04962807,\n",
              "       0.04931327, 0.0518295 , 0.0557598 , 0.06931045, 0.07258004,\n",
              "       0.10961573, 0.12748906, 0.14113596, 0.14045276, 0.16349185,\n",
              "       0.05097444])"
            ]
          },
          "metadata": {},
          "execution_count": 22
        }
      ]
    },
    {
      "cell_type": "code",
      "source": [
        "import matplotlib.pyplot as plt\n",
        "plt.plot(mydataframe.iloc[:,0], leverage,marker='o', linestyle=\"\", color = 'red')\n",
        "plt.xlabel('x')\n",
        "plt.ylabel('leverage')"
      ],
      "metadata": {
        "colab": {
          "base_uri": "https://localhost:8080/",
          "height": 466
        },
        "id": "a5VLfcV-aCbo",
        "outputId": "b13190a9-5e51-4496-cef3-32ea19ede3bb"
      },
      "execution_count": null,
      "outputs": [
        {
          "output_type": "execute_result",
          "data": {
            "text/plain": [
              "Text(0, 0.5, 'leverage')"
            ]
          },
          "metadata": {},
          "execution_count": 23
        },
        {
          "output_type": "display_data",
          "data": {
            "text/plain": [
              "<Figure size 640x480 with 1 Axes>"
            ],
            "image/png": "[encoded data removed]"
          },
          "metadata": {}
        }
      ]
    },
    {
      "cell_type": "code",
      "source": [],
      "metadata": {
        "id": "vYqBdcuhpjb2"
      },
      "execution_count": null,
      "outputs": []
    },
    {
      "cell_type": "markdown",
      "source": [
        "12. Plot the studentized residuals against the x values.\n",
        "\n",
        "Get the studentized residuals using student_resid = influence.\n",
        "resid_studentized_external\n",
        "\n",
        "* Compare the studentized residuals against a t distribution with n-k-2 degrees of freedom.\n",
        "* Describe you findings in approximately 2-3 sentences.\n",
        "\n",
        "Hint: to make a t-distribution you can use the following:\n",
        "\n",
        "from scipy.stats import t rv = t(df=freedom, loc=0, scale=1) #use freedom = n-k-2 x = np.linspace(rv.ppf(0.0001), rv.ppf(0.9999), 100) # xdata for plot y = rv.pdf(t_x) # ydata for plot\n",
        "\n"
      ],
      "metadata": {
        "id": "9DJb04nBX3GF"
      }
    },
    {
      "cell_type": "code",
      "source": [
        "student_resid = influence. resid_studentized_external   #divide by std... check powerpoint again\n",
        "student_resid"
      ],
      "metadata": {
        "colab": {
          "base_uri": "https://localhost:8080/"
        },
        "id": "WDpd1vjvYHik",
        "outputId": "984c8f4d-1dbe-40e4-8113-112bd0f68a15"
      },
      "execution_count": null,
      "outputs": [
        {
          "output_type": "execute_result",
          "data": {
            "text/plain": [
              "array([-0.81916651, -0.24290537, -0.42596177,  0.99808661, -0.57149911,\n",
              "       -0.56405976,  0.40458192, -0.36264263,  0.13610958, -0.25597698,\n",
              "       -0.70363292, -0.09336169,  0.24640779, -1.24719479, -0.67326065,\n",
              "        0.2854828 ,  0.25561479,  0.72218968, -0.05413613, -0.76838197,\n",
              "        6.69012861])"
            ]
          },
          "metadata": {},
          "execution_count": 24
        }
      ]
    },
    {
      "cell_type": "code",
      "source": [
        "import matplotlib.pyplot as plt\n",
        "plt.plot(mydataframe.iloc[:,0], student_resid,marker='o', linestyle=\"\", color = 'red')\n",
        "plt.xlabel('x')\n",
        "plt.ylabel('Studentized Residuals')"
      ],
      "metadata": {
        "colab": {
          "base_uri": "https://localhost:8080/",
          "height": 468
        },
        "id": "uZhMMbL-g0X8",
        "outputId": "9e82dd0d-1c43-4832-ee73-d9ce72a44f31"
      },
      "execution_count": null,
      "outputs": [
        {
          "output_type": "execute_result",
          "data": {
            "text/plain": [
              "Text(0, 0.5, 'Studentized Residuals')"
            ]
          },
          "metadata": {},
          "execution_count": 25
        },
        {
          "output_type": "display_data",
          "data": {
            "text/plain": [
              "<Figure size 640x480 with 1 Axes>"
            ],
            "image/png": "[encoded data removed]"
          },
          "metadata": {}
        }
      ]
    },
    {
      "cell_type": "code",
      "source": [
        "import statsmodels.api as sm\n",
        "x = mydataframe.iloc[:,0]\n",
        "y = student_resid\n",
        "x = sm.add_constant(x)\n",
        "\n",
        "my_model = sm.OLS(y,x).fit()\n",
        "print(my_model.summary())\n",
        "\n",
        "fig,ax = plt.subplots()\n",
        "fig = sm.graphics.plot_fit(my_model,1,ax=ax, vlines = False, ls = \"-\", marker = \"None\")"
      ],
      "metadata": {
        "colab": {
          "base_uri": "https://localhost:8080/",
          "height": 961
        },
        "id": "2aHx5V93ijG0",
        "outputId": "f2100154-584a-4907-cfef-1450fd1fd00e"
      },
      "execution_count": null,
      "outputs": [
        {
          "output_type": "stream",
          "name": "stdout",
          "text": [
            "                            OLS Regression Results                            \n",
            "==============================================================================\n",
            "Dep. Variable:                      y   R-squared:                       0.001\n",
            "Model:                            OLS   Adj. R-squared:                 -0.052\n",
            "Method:                 Least Squares   F-statistic:                   0.01071\n",
            "Date:                Fri, 01 Mar 2024   Prob (F-statistic):              0.919\n",
            "Time:                        11:27:02   Log-Likelihood:                -39.131\n",
            "No. Observations:                  21   AIC:                             82.26\n",
            "Df Residuals:                      19   BIC:                             84.35\n",
            "Df Model:                           1                                         \n",
            "Covariance Type:            nonrobust                                         \n",
            "==============================================================================\n",
            "                 coef    std err          t      P>|t|      [0.025      0.975]\n",
            "------------------------------------------------------------------------------\n",
            "const          0.2030      0.699      0.290      0.775      -1.261       1.667\n",
            "x             -0.0131      0.126     -0.104      0.919      -0.278       0.252\n",
            "==============================================================================\n",
            "Omnibus:                       44.117   Durbin-Watson:                   1.310\n",
            "Prob(Omnibus):                  0.000   Jarque-Bera (JB):              162.774\n",
            "Skew:                           3.437   Prob(JB):                     4.51e-36\n",
            "Kurtosis:                      14.780   Cond. No.                         11.1\n",
            "==============================================================================\n",
            "\n",
            "Notes:\n",
            "[1] Standard Errors assume that the covariance matrix of the errors is correctly specified.\n"
          ]
        },
        {
          "output_type": "stream",
          "name": "stderr",
          "text": [
            "/usr/local/lib/python3.10/dist-packages/statsmodels/graphics/regressionplots.py:157: UserWarning: marker is redundantly defined by the 'marker' keyword argument and the fmt string \"D\" (-> marker='D'). The keyword argument will take precedence.\n",
            "  ax.plot(x1, results.fittedvalues[x1_argsort], 'D', color='r',\n"
          ]
        },
        {
          "output_type": "display_data",
          "data": {
            "text/plain": [
              "<Figure size 640x480 with 1 Axes>"
            ],
            "image/png": "[encoded data removed]"
          },
          "metadata": {}
        }
      ]
    },
    {
      "cell_type": "code",
      "source": [
        "# use freedom = n-k-2\n",
        "n = len(mydataframe)\n",
        "k = len(mydataframe.columns)\n",
        "freedom = n-k-2\n",
        "\n",
        "print('Degrees of freedom: \\n', freedom)"
      ],
      "metadata": {
        "colab": {
          "base_uri": "https://localhost:8080/"
        },
        "id": "3gbTyAg9mRbp",
        "outputId": "4c0390b3-7363-4969-895d-31231d05e397"
      },
      "execution_count": null,
      "outputs": [
        {
          "output_type": "stream",
          "name": "stdout",
          "text": [
            "Degrees of freedom: \n",
            " 15\n"
          ]
        }
      ]
    },
    {
      "cell_type": "code",
      "source": [
        "#t-distribution\n",
        "import numpy as np\n",
        "import matplotlib.pyplot as plt\n",
        "from scipy.stats import t\n",
        "\n",
        "rv = t(freedom, loc=0, scale=1)\n",
        "x = np.linspace(rv.ppf(0.0001), rv.ppf(0.9999), 100) # xdata for plot\n",
        "y = rv.pdf(x) # ydata for plot pdf = probability density function\n",
        "\n",
        "plt.plot(x, y, marker='o', linestyle=\"\", color = 'red')\n",
        "plt.xlabel('x')\n",
        "plt.ylabel('Probability Density Function (PDF)')\n",
        "\n"
      ],
      "metadata": {
        "colab": {
          "base_uri": "https://localhost:8080/",
          "height": 466
        },
        "id": "wpZ0x852jApK",
        "outputId": "b1f1464a-6e89-4d5e-8ce8-264cd9166ea2"
      },
      "execution_count": null,
      "outputs": [
        {
          "output_type": "execute_result",
          "data": {
            "text/plain": [
              "Text(0, 0.5, 'Probability Density Function (PDF)')"
            ]
          },
          "metadata": {},
          "execution_count": 28
        },
        {
          "output_type": "display_data",
          "data": {
            "text/plain": [
              "<Figure size 640x480 with 1 Axes>"
            ],
            "image/png": "[encoded data removed]"
          },
          "metadata": {}
        }
      ]
    },
    {
      "cell_type": "code",
      "source": [
        "import numpy as np\n",
        "import matplotlib.pyplot as plt\n",
        "from scipy.stats import t\n",
        "\n",
        "rv = t(freedom, loc=0, scale=1)\n",
        "x = np.linspace(rv.ppf(0.0001), rv.ppf(0.9999), 100) # xdata for plot\n",
        "y = rv.pdf(x) # ydata for plot pdf = probability density function\n",
        "plt.plot(x, y, 'r-', lw=2, label='t pdf')\n",
        "plt.xlabel('x')\n",
        "plt.ylabel('Probability Density Function (PDF)')\n",
        "plt.title('t-Distribution (mydataframe={})'.format(freedom))\n",
        "plt.legend(loc='best')\n",
        "plt.grid(True)\n",
        "plt.show()"
      ],
      "metadata": {
        "colab": {
          "base_uri": "https://localhost:8080/",
          "height": 472
        },
        "id": "TgsCnR9qpyd7",
        "outputId": "ea8dff5a-813d-46cd-821a-86e1c5df186b"
      },
      "execution_count": null,
      "outputs": [
        {
          "output_type": "display_data",
          "data": {
            "text/plain": [
              "<Figure size 640x480 with 1 Axes>"
            ],
            "image/png": "[encoded data removed]"
          },
          "metadata": {}
        }
      ]
    },
    {
      "cell_type": "markdown",
      "source": [
        "13. Plot the DFFITS against the x values Get DFFITS using (dffits, p) = influence.dffits Compare the DFFITS to:√(2&(k+2)/(n-k-2)) What can you conclude from this result?\n",
        "\n"
      ],
      "metadata": {
        "id": "K4zvtIxdYIBB"
      }
    },
    {
      "cell_type": "code",
      "source": [
        "(dffits, p) = influence.dffits\n",
        "dffits"
      ],
      "metadata": {
        "colab": {
          "base_uri": "https://localhost:8080/"
        },
        "id": "jZtH6zWRYK3Z",
        "outputId": "33fe873e-9c29-456b-c1d9-9000c000d7cb"
      },
      "execution_count": null,
      "outputs": [
        {
          "output_type": "execute_result",
          "data": {
            "text/plain": [
              "array([-0.37897362, -0.1050067 , -0.16247775,  0.36736828, -0.17546596,\n",
              "       -0.16376936,  0.10669839, -0.09265208,  0.03061183, -0.05849487,\n",
              "       -0.16025417, -0.021828  ,  0.0598789 , -0.34035429, -0.1883448 ,\n",
              "        0.10016769,  0.09770954,  0.29275742, -0.02188354, -0.33969577,\n",
              "        1.55049995])"
            ]
          },
          "metadata": {},
          "execution_count": 30
        }
      ]
    },
    {
      "cell_type": "code",
      "source": [
        "import matplotlib.pyplot as plt\n",
        "plt.plot(mydataframe.iloc[:,0], dffits,marker='o', linestyle=\"\", color = 'red')\n",
        "plt.xlabel('x')\n",
        "plt.ylabel('DFFITS')"
      ],
      "metadata": {
        "colab": {
          "base_uri": "https://localhost:8080/",
          "height": 466
        },
        "id": "p6coA92Tqbvu",
        "outputId": "049008b3-b0eb-4752-f3eb-f4530f374bb0"
      },
      "execution_count": null,
      "outputs": [
        {
          "output_type": "execute_result",
          "data": {
            "text/plain": [
              "Text(0, 0.5, 'DFFITS')"
            ]
          },
          "metadata": {},
          "execution_count": 31
        },
        {
          "output_type": "display_data",
          "data": {
            "text/plain": [
              "<Figure size 640x480 with 1 Axes>"
            ],
            "image/png": "[encoded data removed]"
          },
          "metadata": {}
        }
      ]
    },
    {
      "cell_type": "code",
      "source": [
        "dffits_result = np.sqrt((k + 2) / (n - k - 2))\n",
        "\n",
        "print('Result to compare DFFITS to: \\n',dffits_result )"
      ],
      "metadata": {
        "colab": {
          "base_uri": "https://localhost:8080/"
        },
        "id": "akvFWmgPp8aD",
        "outputId": "2f86d1de-96da-44c8-faf6-e49d602942ec"
      },
      "execution_count": null,
      "outputs": [
        {
          "output_type": "stream",
          "name": "stdout",
          "text": [
            "Result to compare DFFITS to: \n",
            " 0.6324555320336759\n"
          ]
        }
      ]
    },
    {
      "cell_type": "code",
      "source": [],
      "metadata": {
        "id": "mrvdjUDkr1ZC"
      },
      "execution_count": null,
      "outputs": []
    },
    {
      "cell_type": "markdown",
      "source": [
        "14. Plot the DFBETAS against the x values Get DFFITS using dfbetas = influence.dfbetas #The first column is for b0, the second for b1 Compare the DFBETAS to 2/√n . What can you conclude from this result?"
      ],
      "metadata": {
        "id": "-peloxP5YLZO"
      }
    },
    {
      "cell_type": "code",
      "source": [
        "dfbetas = influence.dfbetas   #find out what this means taking it from influence\n",
        "dfbetas"
      ],
      "metadata": {
        "colab": {
          "base_uri": "https://localhost:8080/"
        },
        "id": "cUkXL3DcY9mA",
        "outputId": "80df5848-29f6-463e-a703-51a42fae0692"
      },
      "execution_count": null,
      "outputs": [
        {
          "output_type": "execute_result",
          "data": {
            "text/plain": [
              "array([[-0.37831098,  0.3237714 ],\n",
              "       [-0.10453408,  0.08770218],\n",
              "       [-0.16009175,  0.12845918],\n",
              "       [ 0.36030341, -0.28477328],\n",
              "       [-0.16477402,  0.11734257],\n",
              "       [-0.15009794,  0.10194411],\n",
              "       [ 0.0915384 , -0.05520713],\n",
              "       [-0.07689806,  0.04374085],\n",
              "       [ 0.01708982, -0.00320615],\n",
              "       [-0.03723237,  0.01176918],\n",
              "       [-0.04750293, -0.02970386],\n",
              "       [-0.00430125, -0.00622142],\n",
              "       [ 0.0056987 ,  0.02287945],\n",
              "       [ 0.03611788, -0.19040384],\n",
              "       [ 0.02614743, -0.1104526 ],\n",
              "       [-0.03564176,  0.0753313 ],\n",
              "       [-0.04036738,  0.0773379 ],\n",
              "       [-0.13092158,  0.23830555],\n",
              "       [ 0.00975239, -0.0177912 ],\n",
              "       [ 0.16682494, -0.28597814],\n",
              "       [ 1.05329375, -0.39780235]])"
            ]
          },
          "metadata": {},
          "execution_count": 33
        }
      ]
    },
    {
      "cell_type": "code",
      "source": [
        "import pandas as pd\n",
        "import matplotlib.pyplot as plt\n",
        "\n",
        "plt.plot(mydataframe.iloc[:,0], dfbetas,marker='o', linestyle=\"\", color = 'red')\n",
        "plt.xlabel('x')\n",
        "plt.ylabel('DFBETAS')\n",
        "\n"
      ],
      "metadata": {
        "colab": {
          "base_uri": "https://localhost:8080/",
          "height": 466
        },
        "id": "58DFWjlVwEco",
        "outputId": "8f3a56bd-f85a-43eb-f129-f54f6ef711be"
      },
      "execution_count": null,
      "outputs": [
        {
          "output_type": "execute_result",
          "data": {
            "text/plain": [
              "Text(0, 0.5, 'DFBETAS')"
            ]
          },
          "metadata": {},
          "execution_count": 34
        },
        {
          "output_type": "display_data",
          "data": {
            "text/plain": [
              "<Figure size 640x480 with 1 Axes>"
            ],
            "image/png": "[encoded data removed]"
          },
          "metadata": {}
        }
      ]
    },
    {
      "cell_type": "code",
      "source": [
        "dfbetas_result = 2/np.sqrt(n)\n",
        "\n",
        "print('Result to compare DFBETAS to: \\n',dfbetas_result )\n"
      ],
      "metadata": {
        "colab": {
          "base_uri": "https://localhost:8080/"
        },
        "id": "Hxpli9-5sBlk",
        "outputId": "8268ad2f-dcc2-480f-80d8-a8f36f2f2ea5"
      },
      "execution_count": null,
      "outputs": [
        {
          "output_type": "stream",
          "name": "stdout",
          "text": [
            "Result to compare DFBETAS to: \n",
            " 0.4364357804719848\n"
          ]
        }
      ]
    }
  ]
}