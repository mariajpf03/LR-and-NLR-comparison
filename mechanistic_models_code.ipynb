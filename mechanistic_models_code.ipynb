{
 "cells": [
  {
   "cell_type": "code",
   "execution_count": 1,
   "metadata": {},
   "outputs": [
    {
     "data": {
      "text/latex": [
       "$\\displaystyle \\frac{V_{1} k C_{A1}{\\left(t \\right)} + V_{1} \\frac{d}{d t} C_{A1}{\\left(t \\right)} + f C_{A1}{\\left(t \\right)}}{f}$"
      ],
      "text/plain": [
       "(V1*k*C_A1(t) + V1*Derivative(C_A1(t), t) + f*C_A1(t))/f"
      ]
     },
     "metadata": {},
     "output_type": "display_data"
    },
    {
     "data": {
      "text/latex": [
       "$\\displaystyle \\frac{V_{1} \\frac{d}{d t} C_{A1}{\\left(t \\right)} + \\left(V_{1} k + f\\right) C_{A1}{\\left(t \\right)}}{f}$"
      ],
      "text/plain": [
       "(V1*Derivative(C_A1(t), t) + (V1*k + f)*C_A1(t))/f"
      ]
     },
     "metadata": {},
     "output_type": "display_data"
    },
    {
     "data": {
      "text/latex": [
       "$\\displaystyle V_{1} \\frac{d}{d t} C_{A1}{\\left(t \\right)} + \\left(V_{1} k + f\\right) C_{A1}{\\left(t \\right)}$"
      ],
      "text/plain": [
       "V1*Derivative(C_A1(t), t) + (V1*k + f)*C_A1(t)"
      ]
     },
     "metadata": {},
     "output_type": "display_data"
    },
    {
     "data": {
      "text/latex": [
       "$\\displaystyle V_{1} \\frac{d}{d t} C_{A1}{\\left(t \\right)}$"
      ],
      "text/plain": [
       "V1*Derivative(C_A1(t), t)"
      ]
     },
     "metadata": {},
     "output_type": "display_data"
    },
    {
     "data": {
      "text/latex": [
       "$\\displaystyle \\left(V_{1} k + f\\right) C_{A1}{\\left(t \\right)}$"
      ],
      "text/plain": [
       "(V1*k + f)*C_A1(t)"
      ]
     },
     "metadata": {},
     "output_type": "display_data"
    },
    {
     "data": {
      "text/plain": [
       "[1, V1*k + f]"
      ]
     },
     "metadata": {},
     "output_type": "display_data"
    },
    {
     "data": {
      "text/latex": [
       "$\\displaystyle C_{A1}{\\left(t \\right)}$"
      ],
      "text/plain": [
       "C_A1(t)"
      ]
     },
     "metadata": {},
     "output_type": "display_data"
    },
    {
     "data": {
      "text/plain": [
       "[1, V1]"
      ]
     },
     "metadata": {},
     "output_type": "display_data"
    },
    {
     "data": {
      "text/latex": [
       "$\\displaystyle \\frac{d}{d t} C_{A1}{\\left(t \\right)}$"
      ],
      "text/plain": [
       "Derivative(C_A1(t), t)"
      ]
     },
     "metadata": {},
     "output_type": "display_data"
    },
    {
     "data": {
      "text/latex": [
       "$\\displaystyle \\frac{V_{1}}{V_{1} k + f}$"
      ],
      "text/plain": [
       "V1/(V1*k + f)"
      ]
     },
     "metadata": {},
     "output_type": "display_data"
    },
    {
     "data": {
      "text/latex": [
       "$\\displaystyle \\frac{f}{V_{1} k + f}$"
      ],
      "text/plain": [
       "f/(V1*k + f)"
      ]
     },
     "metadata": {},
     "output_type": "display_data"
    }
   ],
   "source": [
    "\n",
    "from sympy import *\n",
    " #import main library and functions\n",
    "from IPython.display import display, Math, Markdown #this is to make everything look pretty when displaying the equns\n",
    "\n",
    "t,V,f,k,CA0,V1,V2 = symbols(\"t,V,f,k,C_A0,V1,V2\",positive=True) #variables defined as positive values\n",
    "CA1,CA2 = symbols('C_A1,C_A2',cls=Function)\n",
    "\n",
    "def variable_in_part_of_eq(var,part): #var is variable, is it in a part of the equation\n",
    "    # Read the next few nodes\n",
    "    split_eq = sum(map(lambda x:x.as_ordered_factors(),part.as_ordered_terms()),start=[]) #break the equation down from terms (a*b to a,b) aka simplify, also start is for defining list, adds together instead of separate values\n",
    "\n",
    "    # If not at a leaf search further, if at leaf check if var is variable\n",
    "    if len(split_eq) > 1: #split equation into variables s\n",
    "        return any(variable_in_part_of_eq\n",
    "      (var,part) for part in split_eq)\n",
    "    elif len(split_eq) == 1:\n",
    "        return split_eq[0] == var #loop and returns the variable\n",
    "    else:\n",
    "        raise NotImplementedError()\n",
    "\n",
    "def to_standard_deqn(deqn,y,x,t):\n",
    "    '''\n",
    "    Brings a differential equation to standard form\n",
    "    `tau * dy/dt + y = K * x`\n",
    "    returns `tau` and `K`\n",
    "    '''\n",
    "    # Isolate the x function\n",
    "    solution = solve(deqn,x) # deqnis defined later, it is\n",
    "    assert len(solution) == 1 #ensures only one solution\n",
    "\n",
    "    # collect and separate cofactors for later\n",
    "    '''\n",
    "    a * y + b * y => (a+b) * y\n",
    "    a * y = (dy/dt + y ) => dy/dt + y\n",
    "    (1/f) = (dy/dt + y ) => dy/dt + y\n",
    "    '''\n",
    "    display (solution[0])\n",
    "    col = collect(solution[0],y) #collects the cofactors, only (1/f) look at notes\n",
    "    display (col)\n",
    "    *co_factor,col = col.as_ordered_factors()\n",
    "    display (col)\n",
    "\n",
    "    # Split into dy and y\n",
    "    terms = col.as_ordered_terms()\n",
    "    assert len(terms) == 2 #ensure eq is split into 2\n",
    "    _dy,_y = terms if variable_in_part_of_eq(y,terms[1]) else terms[::-1] #variable is in right hand side otherwise turn around the list so y is in correct space\n",
    "    assert variable_in_part_of_eq(y,_y) #ensure y\n",
    "    assert variable_in_part_of_eq(diff(y,t),_dy) #ensure dy\n",
    "    display (_dy,_y)\n",
    "\n",
    "    # Extract coefficients\n",
    "    *K_inv,_y = [1]+_y.as_ordered_factors()\n",
    "    *tau_K_inv,_dy = [1]+_dy.as_ordered_factors()\n",
    "    assert y == _y #k inv\n",
    "    assert diff(y,t) == _dy #tau\n",
    "    display (K_inv,_y)\n",
    "    display (tau_K_inv,_dy)\n",
    "\n",
    "    # Combine coefficients\n",
    "    K_inv     = prod(co_factor+K_inv)\n",
    "    tau_K_inv = prod(co_factor+tau_K_inv)\n",
    "    tau = tau_K_inv/K_inv\n",
    "    K = 1/K_inv\n",
    "\n",
    "    return tau,K\n",
    "\n",
    "def from_standard_deqn(y,x,t,tau,K):\n",
    "    '''\n",
    "    #Constructs differential equation on standard form\n",
    "    `tau * dy/dt + y = K * x`\n",
    "    given `tau` and `K`\n",
    "    '''\n",
    "    return Eq(tau*diff(y,t) + y, K * x)\n",
    "\n",
    "deqn_1 = Eq(diff(V1*CA1(t),t), f*CA0   -f*CA1(t)-V1*k*CA1(t))\n",
    "deqn_2 = Eq(diff(V2*CA2(t),t), f*CA1(t)-f*CA2(t)-V2*k*CA2(t))\n",
    "tau1,K1 = to_standard_deqn(deqn_1,CA1(t),CA0   ,t) #y value is CA1 and x value is CA0\n",
    "#tau2,K2 = to_standard_deqn(deqn_2,CA2(t),CA1(t),t)\n",
    "assert tau1 == V1/(f+V1*k)\n",
    "assert K1 == f/(f+V1*k)\n",
    "#assert tau2 == V2/(f+V2*k)\n",
    "#assert K2 == f/(f+V2*k)\n",
    "display(tau1)\n",
    "display(K1)\n",
    "\n",
    "#NOW ADD LABELS TO THE EUQAITONS SO YOU KNOW WHAT IS WHAT\"\"\"\n",
    "\n"
   ]
  }
 ],
 "metadata": {
  "kernelspec": {
   "display_name": "Python 3",
   "language": "python",
   "name": "python3"
  },
  "language_info": {
   "codemirror_mode": {
    "name": "ipython",
    "version": 3
   },
   "file_extension": ".py",
   "mimetype": "text/x-python",
   "name": "python",
   "nbconvert_exporter": "python",
   "pygments_lexer": "ipython3",
   "version": "3.11.3"
  }
 },
 "nbformat": 4,
 "nbformat_minor": 2
}
