{
 "cells": [
  {
   "cell_type": "code",
   "execution_count": 1,
   "metadata": {},
   "outputs": [
    {
     "data": {
      "text/plain": [
       "[9.0/(c0*k)]"
      ]
     },
     "execution_count": 1,
     "metadata": {},
     "output_type": "execute_result"
    }
   ],
   "source": [
    "\n",
    "#Batch reactor w. 2nd order reaction\n",
    "#Time to reach 90% conversion\n",
    "\n",
    "from sympy import *\n",
    "\n",
    "t, k,V,c0 = symbols('t,k,V,c0')\n",
    "c = symbols('c', cls=Function)\n",
    "\n",
    "deqn = Eq(-k*c(t)**2,Derivative(c(t),t))\n",
    "\n",
    "dsolve(deqn)\n",
    "\n",
    "init_cond = {c(0):c0}\n",
    "solution = dsolve(deqn, ics=init_cond)\n",
    "solution\n",
    "\n",
    "equation = Eq(solution.rhs,0.1*c0)\n",
    "solve(equation,t)"
   ]
  }
 ],
 "metadata": {
  "kernelspec": {
   "display_name": "Python 3",
   "language": "python",
   "name": "python3"
  },
  "language_info": {
   "codemirror_mode": {
    "name": "ipython",
    "version": 3
   },
   "file_extension": ".py",
   "mimetype": "text/x-python",
   "name": "python",
   "nbconvert_exporter": "python",
   "pygments_lexer": "ipython3",
   "version": "3.11.3"
  }
 },
 "nbformat": 4,
 "nbformat_minor": 2
}
