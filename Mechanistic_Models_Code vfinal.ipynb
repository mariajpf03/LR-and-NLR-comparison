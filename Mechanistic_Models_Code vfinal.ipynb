{
  "cells": [
    {
      "cell_type": "markdown",
      "metadata": {},
      "source": []
    },
    {
      "cell_type": "code",
      "execution_count": 530,
      "metadata": {},
      "outputs": [
        {
          "ename": "TypeError",
          "evalue": "symbols() takes 1 positional argument but 2 positional arguments (and 1 keyword-only argument) were given",
          "output_type": "error",
          "traceback": [
            "\u001b[1;31m---------------------------------------------------------------------------\u001b[0m",
            "\u001b[1;31mTypeError\u001b[0m                                 Traceback (most recent call last)",
            "Cell \u001b[1;32mIn[530], line 12\u001b[0m\n\u001b[0;32m      9\u001b[0m \u001b[38;5;28;01mfrom\u001b[39;00m \u001b[38;5;21;01mIPython\u001b[39;00m\u001b[38;5;21;01m.\u001b[39;00m\u001b[38;5;21;01mdisplay\u001b[39;00m \u001b[38;5;28;01mimport\u001b[39;00m display,Math,Markdown\n\u001b[0;32m     11\u001b[0m t,f, Corg, V1, V2, k \u001b[38;5;241m=\u001b[39m symbols(\u001b[38;5;124m'\u001b[39m\u001b[38;5;124mt,f, Corg, V1, V2, k\u001b[39m\u001b[38;5;124m'\u001b[39m, positive\u001b[38;5;241m=\u001b[39m\u001b[38;5;28;01mTrue\u001b[39;00m)\n\u001b[1;32m---> 12\u001b[0m Corg1, Corg2 \u001b[38;5;241m=\u001b[39m \u001b[43msymbols\u001b[49m\u001b[43m(\u001b[49m\u001b[38;5;124;43m'\u001b[39;49m\u001b[38;5;124;43mCorg1\u001b[39;49m\u001b[38;5;124;43m'\u001b[39;49m\u001b[43m,\u001b[49m\u001b[38;5;124;43m'\u001b[39;49m\u001b[38;5;124;43mCorg2\u001b[39;49m\u001b[38;5;124;43m'\u001b[39;49m\u001b[43m,\u001b[49m\u001b[38;5;28;43mcls\u001b[39;49m\u001b[38;5;241;43m=\u001b[39;49m\u001b[43mFunction\u001b[49m\u001b[43m)\u001b[49m \u001b[38;5;66;03m# concentration of organic substance in tank I and II which are the unknowns\u001b[39;00m\n\u001b[0;32m     14\u001b[0m deqn1 \u001b[38;5;241m=\u001b[39m Eq(V1\u001b[38;5;241m*\u001b[39mdiff(Corg1(t),t), \u001b[38;5;241m-\u001b[39m k\u001b[38;5;241m*\u001b[39mCorg(t)\u001b[38;5;241m*\u001b[39mV1 \u001b[38;5;241m-\u001b[39m f\u001b[38;5;241m*\u001b[39mCorg1(t)) \u001b[38;5;66;03m# A mass balance tank I\u001b[39;00m\n\u001b[0;32m     15\u001b[0m deqn2 \u001b[38;5;241m=\u001b[39m Eq(V2\u001b[38;5;241m*\u001b[39mdiff(Corg2(t),t), \u001b[38;5;241m-\u001b[39m k\u001b[38;5;241m*\u001b[39mCorg(t)\u001b[38;5;241m*\u001b[39mV2 \u001b[38;5;241m-\u001b[39m f\u001b[38;5;241m*\u001b[39m(Corg2(t)\u001b[38;5;241m-\u001b[39mCorg1(t))) \u001b[38;5;66;03m# A mass balance tank II\u001b[39;00m\n",
            "\u001b[1;31mTypeError\u001b[0m: symbols() takes 1 positional argument but 2 positional arguments (and 1 keyword-only argument) were given"
          ]
        }
      ],
      "source": [
        "#TODO CHANGE ALL THE PYTHON SCRIPTS TO PYTHON NOTEBOOK, COPY PASTE AND MAKE NEW PYTHON SCIRPTS AND SAVE AS .IPYNB\n",
        "\n",
        "# PART A: STATE A MODEL (DIFFERENTIAL EQUATION) FOR THE [] OF A IN REACTOR 1 AND FOR REACTOR 2\n",
        "# WE USE deqn1 and deqn2 for this, recall the mass balance:\n",
        "# Accumulated = -generated + flow in - flow out\n",
        "\n",
        "\n",
        "from sympy import *\n",
        "from IPython.display import display,Math,Markdown\n",
        "\n",
        "t,f, Corg, V1, V2, k = symbols('t,f, Corg, V1, V2, k', positive=True)\n",
        "Corg1, Corg2 = symbols('Corg1','Corg2',cls=Function) # concentration of organic substance in tank I and II which are the unknowns\n",
        "\n",
        "deqn1 = Eq(V1*diff(Corg1(t),t), - k*Corg(t)*V1 - f*Corg1(t)) # A mass balance tank I\n",
        "deqn2 = Eq(V2*diff(Corg2(t),t), - k*Corg(t)*V2 - f*(Corg2(t)-Corg1(t))) # A mass balance tank II\n",
        "\n",
        "print (\"here are the equations:\")\n",
        "display (\"reactor1:\",deqn1)\n",
        "display (\"reactor2:\",deqn2) \n",
        " \n",
        "#PART B: FIND SYMBOLIC EXPRESSIONS FOR THE STEADY STATE [] IN BOTH REACTORS, NOT SOLVING DEQN\n",
        "#AND FIND NUMBER OF NUMERICAL VALUES USING THE PARAMETERS IN TABLE 1\n",
        "#\n",
        "#init_conditions= {CA1(0):0,CA2(0):0} # initial value of concentration.we are told to assume zero\n",
        "#par = [(f,20),(CA0, 2),(V1,200),(V2,100),(k,0.048)] #taken from equation \n",
        "#\n",
        "#symbolic_solution = dsolve((deqn1,deqn2), ics=init_conditions)\n",
        "#display(Markdown('Symbolic solution is:'), symbolic_solution[0],symbolic_solution[1])\n",
        "#\n",
        "#\"\"\"Using the parameters\"\"\"\n",
        "#\n",
        "#C_A1sol=symbolic_solution[0].rhs.subs(par)\n",
        "#C_A2sol=symbolic_solution[1].rhs.subs(par)\n",
        "#\n",
        "#graphs = plot(C_A1sol,C_A2sol,(t,0,60),legend=True,show=False)\n",
        "#graphs[0].label = 'c1(t)'\n",
        "#graphs[1].label = 'c2(t)'\n",
        "#graphs.title = 'Concentration of A vs time'\n",
        "#graphs.show()"
      ]
    },
    {
      "cell_type": "markdown",
      "metadata": {},
      "source": [
        "11A example for Buoancy"
      ]
    },
    {
      "cell_type": "code",
      "execution_count": null,
      "metadata": {},
      "outputs": [
        {
          "name": "stdout",
          "output_type": "stream",
          "text": [
            "this is the differential equation\n"
          ]
        },
        {
          "data": {
            "text/latex": [
              "$\\displaystyle \\frac{d^{2}}{d t^{2}} h{\\left(t \\right)} = \\frac{- D \\frac{d}{d t} h{\\left(t \\right)} + \\frac{g m \\rho_{l}}{\\rho_{s}} - g m}{m}$"
            ],
            "text/plain": [
              "Eq(Derivative(h(t), (t, 2)), (-D*Derivative(h(t), t) + g*m*rho_l/rho_s - g*m)/m)"
            ]
          },
          "metadata": {},
          "output_type": "display_data"
        }
      ],
      "source": [
        "from sympy import*\n",
        "from IPython.display import display, Math, Markdown #this is to make everything look pretty when displaying the equns\n",
        "\n",
        "m, D, g, t, m_displaced_liquid, rho_s, rho_l  = symbols(\"m, D, g, t, m_displaced_liquid, rho_s, rho_l\",positive=True)\n",
        "h = symbols('h',cls=Function) \n",
        "\n",
        "''' RECALL:\n",
        " position = h(t)\n",
        " velocity = v(t) = dh/dt\n",
        " acceleration = a(t) = dv/dt = d^2h/dt^2'''\n",
        "\n",
        "# because of this ^ we differentiate v in terms of h and t\n",
        "v = diff(h(t),t)\n",
        "\n",
        "''' Our defined force balance:\n",
        "(d(h),t,2) = (F_up, - F_drag - F_gravity)/m\n",
        "\n",
        "becuase we have Forces that do not equal a value\n",
        "but are a calculation, we must define these'''\n",
        "\n",
        "# since we introduce the m_displaced liquid, we need to calculate for this too:\n",
        "m_displaced_liquid = m/rho_s*rho_l\n",
        "\n",
        "# Summation of Forces:\n",
        "F_up = g*m_displaced_liquid\n",
        "F_gravity = g *m # m/s**-2\n",
        "F_drag = D*v\n",
        "\n",
        "# Now we can put these into our final differential equation\n",
        "deq_object_rising_liquid = Eq(diff(h(t),t,2),((F_up - F_drag - F_gravity)/m)) # this is a double differentiated eqn\n",
        "print('this is the differential equation')\n",
        "display (deq_object_rising_liquid)\n"
      ]
    },
    {
      "cell_type": "code",
      "execution_count": null,
      "metadata": {},
      "outputs": [
        {
          "name": "stdout",
          "output_type": "stream",
          "text": [
            "this is the symbolic solution:\n"
          ]
        },
        {
          "data": {
            "text/latex": [
              "$\\displaystyle h{\\left(t \\right)} = C_{1} + C_{2} e^{- 28.0 t} + 0.0388888888888889 t$"
            ],
            "text/plain": [
              "Eq(h(t), C1 + C2*exp(-28.0*t) + 0.0388888888888889*t)"
            ]
          },
          "metadata": {},
          "output_type": "display_data"
        },
        {
          "name": "stdout",
          "output_type": "stream",
          "text": [
            "this is the numerical solution_:\n"
          ]
        },
        {
          "data": {
            "text/latex": [
              "$\\displaystyle h{\\left(t \\right)} = 0.0388888888888889 t - 0.00138888888888889 + 0.00138888888888889 e^{- 28.0 t}$"
            ],
            "text/plain": [
              "Eq(h(t), 0.0388888888888889*t - 0.00138888888888889 + 0.00138888888888889*exp(-28.0*t))"
            ]
          },
          "metadata": {},
          "output_type": "display_data"
        },
        {
          "name": "stdout",
          "output_type": "stream",
          "text": [
            "this is the analytical solution:\n"
          ]
        },
        {
          "data": {
            "text/latex": [
              "$\\displaystyle h{\\left(t \\right)} = C_{1} + C_{2} e^{- \\frac{D t}{m}} + \\frac{g m \\rho_{l} t}{D \\rho_{s}} - \\frac{g m t}{D}$"
            ],
            "text/plain": [
              "Eq(h(t), C1 + C2*exp(-D*t/m) + g*m*rho_l*t/(D*rho_s) - g*m*t/D)"
            ]
          },
          "metadata": {},
          "output_type": "display_data"
        }
      ],
      "source": [
        "params = {\n",
        "    (m,50E-3), #exponential from scientific notation in kg\n",
        "    (D,1.40), # kg/s\n",
        "    (rho_s, 900),# kg/m**3\n",
        "    (rho_l, 1000), # kg/m**3\n",
        "    (g, 9.80) # m/s**2\n",
        "}\n",
        "\n",
        "init_cond = {h(0):0, v.subs(t,0):0}\n",
        "\n",
        "print ('this is the symbolic solution:')\n",
        "symb_sol = dsolve(deq_object_rising_liquid.subs(params))\n",
        "display(symb_sol)\n",
        "\n",
        "print ('this is the numerical solution_:')\n",
        "num_sol = dsolve(deq_object_rising_liquid.subs(params), ics=init_cond)\n",
        "display(num_sol)\n",
        "\n",
        "print ('this is the analytical solution:')\n",
        "anal_sol = dsolve(deq_object_rising_liquid)\n",
        "display(anal_sol)\n"
      ]
    },
    {
      "cell_type": "code",
      "execution_count": null,
      "metadata": {},
      "outputs": [
        {
          "data": {
            "image/png": "[encoded data removed]",
            "text/plain": [
              "<Figure size 640x480 with 1 Axes>"
            ]
          },
          "metadata": {},
          "output_type": "display_data"
        }
      ],
      "source": [
        "# now we will plot :)\n",
        "sol = dsolve(deq_object_rising_liquid.subs(params), ics=init_cond)\n",
        "graph = plot(sol.rhs, (t, 0, 60), line_colour='blue',label='h(t)', legend=True, show=False)\n",
        "graph.show()"
      ]
    },
    {
      "cell_type": "code",
      "execution_count": null,
      "metadata": {},
      "outputs": [
        {
          "data": {
            "text/latex": [
              "$\\displaystyle 0.0388888888888889 t - 0.00138888888888889 + 0.00138888888888889 e^{- 28.0 t}$"
            ],
            "text/plain": [
              "0.0388888888888889*t - 0.00138888888888889 + 0.00138888888888889*exp(-28.0*t)"
            ]
          },
          "metadata": {},
          "output_type": "display_data"
        },
        {
          "name": "stdout",
          "output_type": "stream",
          "text": [
            "this is the time is takes for the object to reach the top at 2m:\n"
          ]
        },
        {
          "data": {
            "text/latex": [
              "$\\displaystyle 51.4642857142857$"
            ],
            "text/plain": [
              "51.4642857142857"
            ]
          },
          "metadata": {},
          "output_type": "display_data"
        },
        {
          "name": "stdout",
          "output_type": "stream",
          "text": [
            "this is the max velocity 0.0389 m/s^2\n"
          ]
        }
      ],
      "source": [
        "# estimate the time it takes for object to reach top of liquid, 2m\n",
        "display(num_sol.rhs)\n",
        "time = nsolve(Eq(num_sol.rhs,2),t,1)\n",
        "print('this is the time is takes for the object to reach the top at 2m:')\n",
        "display(time)\n",
        "\n",
        "#time = nsolve(num_sol.rhs, 2,t,1) Where rhs we want it to be 2, t is the variable we are solving for, 1 is a starting guess\n",
        "\n",
        "\n",
        "#estimate max velocity  of dh/dt \n",
        "velocity = diff(num_sol.rhs,t)\n",
        "max_velocity = velocity.subs(t, time).evalf(3)\n",
        "print('this is the max velocity',max_velocity,'m/s^2')\n",
        "\n",
        "\n",
        "\n"
      ]
    },
    {
      "cell_type": "markdown",
      "metadata": {},
      "source": [
        "Mixing Tank Example"
      ]
    },
    {
      "cell_type": "code",
      "execution_count": null,
      "metadata": {},
      "outputs": [
        {
          "data": {
            "text/latex": [
              "$\\displaystyle m \\frac{d}{d t} x_{3}{\\left(t \\right)} = w_{1} x_{1} - w_{3} x_{3}{\\left(t \\right)}$"
            ],
            "text/plain": [
              "Eq(m*Derivative(x3(t), t), w1*x1 - w3*x3(t))"
            ]
          },
          "metadata": {},
          "output_type": "display_data"
        }
      ],
      "source": [
        "from sympy import * #import main library and functions\n",
        "from IPython.display import display, Math, Markdown #this is to make everything look pretty when displaying the equns\n",
        "\n",
        "'''don't get thrown off at the fact that there are 2 streams, we focus on the  [] of component that is not water \n",
        "    we keep in mind the mass frac of each \n",
        "    it is clear we are missing V in this example '''\n",
        "\n",
        "# now we will define the symbols used, include anything except the thing that is in d/dt\n",
        "t, w1, w3, v, rho, m, x1  = symbols(\"t, w1, w3, v, rho, m, x1\",positive=True) \n",
        "\n",
        "''' here x1/x2 is the concentration of NaOH at stream in/out'''\n",
        "\n",
        "# define Cp as a function which is the differential equation\n",
        "x3 = symbols('x3',cls=Function) \n",
        "\n",
        "deqnmix = Eq(m*diff(x3(t),t), (w1*x1)-(w3*x3(t)))\n",
        "display(deqnmix)\n"
      ]
    },
    {
      "cell_type": "code",
      "execution_count": null,
      "metadata": {},
      "outputs": [
        {
          "name": "stdout",
          "output_type": "stream",
          "text": [
            "this is the symbolic solution:\n"
          ]
        },
        {
          "data": {
            "text/latex": [
              "$\\displaystyle x_{3}{\\left(t \\right)} = C_{1} e^{- 0.0798857644991213 t} + 0.491328420049133$"
            ],
            "text/plain": [
              "Eq(x3(t), C1*exp(-0.0798857644991213*t) + 0.491328420049133)"
            ]
          },
          "metadata": {},
          "output_type": "display_data"
        },
        {
          "name": "stdout",
          "output_type": "stream",
          "text": [
            "this is the numerical solution_:\n"
          ]
        },
        {
          "data": {
            "text/latex": [
              "$\\displaystyle x_{3}{\\left(t \\right)} = 0.491328420049133 + 0.058671579950867 e^{- 0.0798857644991213 t}$"
            ],
            "text/plain": [
              "Eq(x3(t), 0.491328420049133 + 0.058671579950867*exp(-0.0798857644991213*t))"
            ]
          },
          "metadata": {},
          "output_type": "display_data"
        },
        {
          "name": "stdout",
          "output_type": "stream",
          "text": [
            "this is the analytical solution:\n"
          ]
        },
        {
          "data": {
            "text/latex": [
              "$\\displaystyle x_{3}{\\left(t \\right)} = C_{1} e^{- \\frac{t w_{3}}{m}} + \\frac{w_{1} x_{1}}{w_{3}}$"
            ],
            "text/plain": [
              "Eq(x3(t), C1*exp(-t*w3/m) + w1*x1/w3)"
            ]
          },
          "metadata": {},
          "output_type": "display_data"
        }
      ],
      "source": [
        "params = {\n",
        "    (x1,0.67), #kg/min, original is 0.75 but step change occurs to become o.67\n",
        "    (w1,20), #kg/min\n",
        "    (w3, 27.273), #kg/min\n",
        "    (m,rho*v), #mass in kg\n",
        "    (v, 0.2845), #volume of liquid , given L\n",
        "    (rho, 1200) #density of liquid, given kg/m**3\n",
        "}\n",
        "\n",
        "init_cond = {x3(0):0.55}\n",
        "\n",
        "print ('this is the symbolic solution:')\n",
        "symb_sol = dsolve(deqnmix.subs(params))\n",
        "display(symb_sol)\n",
        "\n",
        "print ('this is the numerical solution_:')\n",
        "num_sol = dsolve(deqnmix.subs(params), ics=init_cond)\n",
        "display(num_sol)\n",
        "\n",
        "print ('this is the analytical solution:')\n",
        "anal_sol = dsolve(deqnmix)\n",
        "display(anal_sol)\n"
      ]
    },
    {
      "cell_type": "code",
      "execution_count": null,
      "metadata": {},
      "outputs": [
        {
          "data": {
            "image/png": "[encoded data removed]",
            "text/plain": [
              "<Figure size 640x480 with 1 Axes>"
            ]
          },
          "metadata": {},
          "output_type": "display_data"
        }
      ],
      "source": [
        "# now we will plot :)\n",
        "sol = dsolve(deqnmix.subs(params), ics=init_cond)\n",
        "graph = plot(sol.rhs, (t, 0, 100), ylim = (0, 0.6), line_colour='blue',label='Cp(t)', legend=True, show=False)\n",
        "graph.show()\n",
        "\n"
      ]
    },
    {
      "cell_type": "markdown",
      "metadata": {},
      "source": [
        "Chemical Systems: Dilution"
      ]
    },
    {
      "cell_type": "code",
      "execution_count": null,
      "metadata": {},
      "outputs": [
        {
          "data": {
            "text/latex": [
              "$\\displaystyle v \\frac{d}{d t} \\operatorname{CA}{\\left(t \\right)} = - f \\operatorname{CA}{\\left(t \\right)}$"
            ],
            "text/plain": [
              "Eq(v*Derivative(CA(t), t), -f*CA(t))"
            ]
          },
          "metadata": {},
          "output_type": "display_data"
        }
      ],
      "source": [
        "from sympy import * #import main library and functions\n",
        "from IPython.display import display, Math, Markdown #this is to make everything look pretty when displaying the equns\n",
        "\n",
        "\n",
        "# now we will define the symbols used, include anything except the thing that is in d/dt\n",
        "t, f, rho, v  = symbols(\"t, f, rho, v\",positive=True) \n",
        "\n",
        "# define Cp as a function which is the differential equation\n",
        "CA = symbols('CA',cls=Function) \n",
        "\n",
        "deqndilute = Eq(v*diff(CA(t),t), -f*CA(t))\n",
        "display(deqndilute)\n",
        "\n"
      ]
    },
    {
      "cell_type": "code",
      "execution_count": null,
      "metadata": {},
      "outputs": [
        {
          "name": "stdout",
          "output_type": "stream",
          "text": [
            "numeric solution:\n"
          ]
        },
        {
          "data": {
            "text/latex": [
              "$\\displaystyle \\operatorname{CA}{\\left(t \\right)} = 0.0227 e^{- \\frac{t}{11}}$"
            ],
            "text/plain": [
              "Eq(CA(t), 0.0227*exp(-t/11))"
            ]
          },
          "execution_count": 505,
          "metadata": {},
          "output_type": "execute_result"
        }
      ],
      "source": [
        "#now we solve based on given info:\n",
        "#initial conditions= yes \n",
        "#params = yes \n",
        "#therefore it is numeric\n",
        "\n",
        "init_condit1 = {CA(0):0.0227} # initial value of the concentration \n",
        "par = [(f,40000),(rho,1000),(v, 440000)] # parameters, substitute the values given\n",
        "\n",
        "# now we ask python to solve it for us :)\n",
        "numeric_sol = dsolve(deqndilute.subs(par),ics=init_condit1) \n",
        "print( 'numeric solution:')\n",
        "numeric_sol"
      ]
    },
    {
      "cell_type": "code",
      "execution_count": null,
      "metadata": {},
      "outputs": [
        {
          "data": {
            "image/png": "[encoded data removed]",
            "text/plain": [
              "<Figure size 640x480 with 1 Axes>"
            ]
          },
          "metadata": {},
          "output_type": "display_data"
        }
      ],
      "source": [
        "# now we plot over 5hr interval\n",
        "solution = numeric_sol.rhs.subs(par) \n",
        "\n",
        "graphs = plot(solution,(t,0,5),line_colour='blue',label='Cp(t)', legend=True, show=False)\n",
        "\n",
        "graphs.title = 'Concentration of component A over 5hrs'\n",
        "graphs.show()"
      ]
    },
    {
      "cell_type": "code",
      "execution_count": null,
      "metadata": {},
      "outputs": [
        {
          "data": {
            "text/latex": [
              "$\\displaystyle 0.0144085167099444$"
            ],
            "text/plain": [
              "0.0144085167099444"
            ]
          },
          "execution_count": 507,
          "metadata": {},
          "output_type": "execute_result"
        }
      ],
      "source": [
        "#evaluate concentration of A after 5 hours \n",
        "\n",
        "concentration = solution.evalf(subs={t:5})\n",
        "concentration"
      ]
    },
    {
      "cell_type": "markdown",
      "metadata": {},
      "source": [
        "Based on this we can say that it is a realistic graph "
      ]
    },
    {
      "cell_type": "markdown",
      "metadata": {},
      "source": [
        "Exam June 2024, 1.3"
      ]
    },
    {
      "cell_type": "code",
      "execution_count": null,
      "metadata": {
        "colab": {
          "base_uri": "https://localhost:8080/",
          "height": 359
        },
        "id": "6nsRS0MqyH0a",
        "outputId": "3ded0980-22d0-4a96-bb71-0958b1ad7ae3"
      },
      "outputs": [],
      "source": [
        "from sympy import * #import main library and functions\n",
        "from IPython.display import display, Math, Markdown #this is to make everything look pretty when displaying the equns\n",
        "\n",
        "\n",
        "# now we will define the symbols used, include anything except the thing that is in d/dt\n",
        "t,k,f,V1,Cg  = symbols(\"t,k,f,V1,Cg\",positive=True) \n",
        "\n",
        "# define Cp as a function which is the differential equation\n",
        "Cp = symbols('C_p',cls=Function) \n"
      ]
    },
    {
      "cell_type": "code",
      "execution_count": null,
      "metadata": {},
      "outputs": [
        {
          "name": "stdout",
          "output_type": "stream",
          "text": [
            "this is the differential equation that will be solved:\n"
          ]
        },
        {
          "data": {
            "text/latex": [
              "$\\displaystyle \\frac{d}{d t} C_{p}{\\left(t \\right)} = Cg k - \\frac{f C_{p}{\\left(t \\right)}}{V_{1}}$"
            ],
            "text/plain": [
              "Eq(Derivative(C_p(t), t), Cg*k - f*C_p(t)/V1)"
            ]
          },
          "execution_count": 509,
          "metadata": {},
          "output_type": "execute_result"
        }
      ],
      "source": [
        "#now we will define the first differential equation\n",
        "# REMEMBER left side of equation (= is ,) and right side \n",
        "deqn1 = Eq(diff(Cp(t),t),k*Cg-f*Cp(t)/V1) # remember that Cp is a function of time so write (t)\n",
        "\n",
        "print('this is the differential equation that will be solved:')\n",
        "deqn1"
      ]
    },
    {
      "cell_type": "code",
      "execution_count": null,
      "metadata": {},
      "outputs": [
        {
          "name": "stdout",
          "output_type": "stream",
          "text": [
            "symbolic solution:\n"
          ]
        },
        {
          "data": {
            "text/latex": [
              "$\\displaystyle C_{p}{\\left(t \\right)} = \\frac{Cg V_{1} k}{f} - \\frac{Cg V_{1} k e^{- \\frac{f t}{V_{1}}}}{f}$"
            ],
            "text/plain": [
              "Eq(C_p(t), Cg*V1*k/f - Cg*V1*k*exp(-f*t/V1)/f)"
            ]
          },
          "execution_count": 510,
          "metadata": {},
          "output_type": "execute_result"
        }
      ],
      "source": [
        "# now we will solve for symbolic solution = wiht initial params and conditions\n",
        "''\n",
        "init_condit1 = {Cp(0):0} # initial value of the concentration \n",
        "par = [(f,1.2),(Cg,0.67),(V1,15),(k,0.4)] # parameters, substitute the values given\n",
        "\n",
        "# now we ask python to solve it for us :)\n",
        "symb_sol = dsolve((deqn1),ics=init_condit1) \n",
        "print( 'symbolic solution:')\n",
        "symb_sol"
      ]
    },
    {
      "cell_type": "code",
      "execution_count": null,
      "metadata": {},
      "outputs": [
        {
          "data": {
            "image/png": "[encoded data removed]",
            "text/plain": [
              "<Figure size 640x480 with 1 Axes>"
            ]
          },
          "metadata": {},
          "output_type": "display_data"
        }
      ],
      "source": [
        "# to provide a figure over a given amount of time:\n",
        "''\n",
        "# extracting the original solution with the same parameters\n",
        "solution = symb_sol.rhs.subs(par) \n",
        "\n",
        "#plotting\n",
        "graphs = plot(solution,(t,0,60),line_colour='blue',label='Cp(t)', legend=True, show=False)\n",
        "\n",
        "graphs.title = 'Concentration of 1,3-propanediol over Time'\n",
        "graphs.show()"
      ]
    },
    {
      "cell_type": "markdown",
      "metadata": {},
      "source": [
        "June 2023"
      ]
    },
    {
      "cell_type": "code",
      "execution_count": null,
      "metadata": {},
      "outputs": [],
      "source": [
        "from sympy import * #import main library and functions\n",
        "from IPython.display import display, Math, Markdown #this is to make everything look pretty when displaying the equns\n",
        "\n",
        "\n",
        "# now we will define the symbols used, include anything except the thing that is in d/dt\n",
        "t,k,f,V1,Cg,Cg0 = symbols(\"t,k,f,V1,Cg,Cg0\",positive=True) \n",
        "\n",
        "# define Cp as a function which is the differential equation\n",
        "Cg = symbols('Cg',cls=Function) \n"
      ]
    },
    {
      "cell_type": "code",
      "execution_count": null,
      "metadata": {},
      "outputs": [
        {
          "name": "stdout",
          "output_type": "stream",
          "text": [
            "this is the differential equation that will be solved:\n"
          ]
        },
        {
          "data": {
            "text/latex": [
              "$\\displaystyle \\frac{d}{d t} \\operatorname{Cg}{\\left(t \\right)} = - k \\operatorname{Cg}{\\left(t \\right)} + \\frac{f \\left(Cg_{0} - \\operatorname{Cg}{\\left(t \\right)}\\right)}{V_{1}}$"
            ],
            "text/plain": [
              "Eq(Derivative(Cg(t), t), -k*Cg(t) + f*(Cg0 - Cg(t))/V1)"
            ]
          },
          "execution_count": 513,
          "metadata": {},
          "output_type": "execute_result"
        }
      ],
      "source": [
        "#now we will define the first differential equation\n",
        "# REMEMBER left side of equation (= is ,) and right side \n",
        "deqn2 = Eq(diff(Cg(t),t),((-k*Cg(t))+(f/V1)*(Cg0-Cg(t)))) # remember that Cp is a function of time so write (t)\n",
        "\n",
        "print('this is the differential equation that will be solved:')\n",
        "deqn2"
      ]
    },
    {
      "cell_type": "code",
      "execution_count": null,
      "metadata": {},
      "outputs": [
        {
          "name": "stdout",
          "output_type": "stream",
          "text": [
            "symbolic solution:\n"
          ]
        },
        {
          "data": {
            "text/latex": [
              "$\\displaystyle \\operatorname{Cg}{\\left(t \\right)} = \\frac{Cg_{0} f}{V_{1} k + f} - \\frac{Cg_{0} f e^{- t \\left(k + \\frac{f}{V_{1}}\\right)}}{V_{1} k + f}$"
            ],
            "text/plain": [
              "Eq(Cg(t), Cg0*f/(V1*k + f) - Cg0*f*exp(-t*(k + f/V1))/(V1*k + f))"
            ]
          },
          "execution_count": 514,
          "metadata": {},
          "output_type": "execute_result"
        }
      ],
      "source": [
        "# now we will solve for symbolic solution = wiht initial params and conditions\n",
        "''\n",
        "init_condit1 = {Cg(0):0} # initial value of the concentration \n",
        "par = [(f,50),(Cg0,2),(V1,700),(k,2.7)] # parameters, substitute the values given\n",
        "\n",
        "# now we ask python to solve it for us :)\n",
        "symb_sol = dsolve((deqn2),ics=init_condit1) #\n",
        "print( 'symbolic solution:')\n",
        "symb_sol"
      ]
    },
    {
      "cell_type": "code",
      "execution_count": null,
      "metadata": {},
      "outputs": [
        {
          "data": {
            "image/png": "[encoded data removed]",
            "text/plain": [
              "<Figure size 640x480 with 1 Axes>"
            ]
          },
          "metadata": {},
          "output_type": "display_data"
        }
      ],
      "source": [
        "# to provide a figure over a given amount of time:\n",
        "''\n",
        "# extracting the original solution with the same parameters\n",
        "solution = symb_sol.rhs.subs(par) \n",
        "\n",
        "#plotting\n",
        "graphs = plot(solution,(t,0,180),line_colour='blue',label='Cg(t)', legend=True, show=False)\n",
        "\n",
        "graphs.title = 'Concentration of Glucose over 3 hours'\n",
        "graphs.show()"
      ]
    },
    {
      "cell_type": "markdown",
      "metadata": {},
      "source": [
        "Problem 2: Smith and Campbell Problem "
      ]
    },
    {
      "cell_type": "code",
      "execution_count": null,
      "metadata": {},
      "outputs": [],
      "source": [
        "from sympy import * #import main library and functions\n",
        "from IPython.display import display, Math, Markdown #this is to make everything look pretty when displaying the equns\n",
        "\n",
        "\n",
        "# now we will define the symbols used, include anything except the thing that is in d/dt\n",
        "m, k, t = symbols(\"m, k, t\",positive=True) \n",
        "\n",
        "# definex and y as a function which is the differential equation\n",
        "x, y = symbols('x, y',cls=Function) "
      ]
    },
    {
      "cell_type": "code",
      "execution_count": null,
      "metadata": {},
      "outputs": [
        {
          "name": "stdout",
          "output_type": "stream",
          "text": [
            "these are the first order differential equations:\n"
          ]
        },
        {
          "data": {
            "text/latex": [
              "$\\displaystyle k y{\\left(t \\right)} + m \\frac{d}{d t} y{\\left(t \\right)} = 0$"
            ],
            "text/plain": [
              "Eq(k*y(t) + m*Derivative(y(t), t), 0)"
            ]
          },
          "metadata": {},
          "output_type": "display_data"
        },
        {
          "data": {
            "text/latex": [
              "$\\displaystyle y{\\left(t \\right)} = \\frac{d}{d t} x{\\left(t \\right)}$"
            ],
            "text/plain": [
              "Eq(y(t), Derivative(x(t), t))"
            ]
          },
          "metadata": {},
          "output_type": "display_data"
        }
      ],
      "source": [
        "#now we will define the first differential equation\n",
        "# REMEMBER left side of equation (= is ,) and right side \n",
        "deqn1 = Eq(m * diff(y(t),t) + k * y(t),0) # remember that y is a function of time so write (t)\n",
        "\n",
        "deqn2 = Eq(y(t),diff(x(t),t))\n",
        "\n",
        "\n",
        "print('these are the first order differential equations:')\n",
        "display(deqn1)\n",
        "display(deqn2)"
      ]
    },
    {
      "cell_type": "code",
      "execution_count": null,
      "metadata": {},
      "outputs": [
        {
          "data": {
            "text/markdown": [
              "Symbolic solutions are:"
            ],
            "text/plain": [
              "<IPython.core.display.Markdown object>"
            ]
          },
          "metadata": {},
          "output_type": "display_data"
        },
        {
          "data": {
            "text/latex": [
              "$\\displaystyle y{\\left(t \\right)} = 50 e^{- \\frac{k t}{m}}$"
            ],
            "text/plain": [
              "Eq(y(t), 50*exp(-k*t/m))"
            ]
          },
          "metadata": {},
          "output_type": "display_data"
        },
        {
          "data": {
            "text/latex": [
              "$\\displaystyle x{\\left(t \\right)} = \\frac{50 m}{k} - \\frac{50 m e^{- \\frac{k t}{m}}}{k}$"
            ],
            "text/plain": [
              "Eq(x(t), 50*m/k - 50*m*exp(-k*t/m)/k)"
            ]
          },
          "metadata": {},
          "output_type": "display_data"
        }
      ],
      "source": [
        "# now we will solve for numerical solution = wiht initial params and conditions\n",
        "\n",
        "init_condit1 = {x(0):0,y(0):50} # initial value of the variables part of a derivative, so x and y \n",
        "                                #where x is the position, from position 0, and y from velocity 0 to 50 \n",
        "par = [(m,500),(k,100)] # parameters, substitute the values given\n",
        "\n",
        "# now we ask python to solve it for us :) symbollically, aka with parameters and starting contions\n",
        "symbolic_sol = dsolve((deqn1, deqn2),ics=init_condit1) #\n",
        "display(Markdown('Symbolic solutions are:'), symbolic_sol[0], symbolic_sol[1]) #aksign to solve symbollically both for diff eq based on position"
      ]
    },
    {
      "cell_type": "code",
      "execution_count": null,
      "metadata": {},
      "outputs": [
        {
          "data": {
            "image/png": "[encoded data removed]",
            "text/plain": [
              "<Figure size 640x480 with 1 Axes>"
            ]
          },
          "metadata": {},
          "output_type": "display_data"
        }
      ],
      "source": [
        "# now we plot\n",
        "\n",
        "#extracting the original 2 solutions individually\n",
        "y_solution = symbolic_sol[0]\n",
        "x_solution = symbolic_sol[1]\n",
        "\n",
        "#using the same parameters but only caring about \n",
        "#plotting\n",
        "#TODO: Be aware of the untits of the Y axis, if in minutes or seconds / rhs just means right hand side of eq\n",
        "graphs = plot(y_solution.rhs.subs(par),(t,0,120),line_colour='blue',label='Cg(t)', legend=True, show=False)\n",
        "graphs[0].label = 'y(t)'\n",
        "graphs.title = 'Velocity of dragster being stopped by dragster over 2 minutes'\n",
        "graphs.show()"
      ]
    },
    {
      "cell_type": "code",
      "execution_count": null,
      "metadata": {},
      "outputs": [
        {
          "data": {
            "text/latex": [
              "$\\displaystyle \\frac{m \\log{\\left(50 \\right)}}{k}$"
            ],
            "text/plain": [
              "m*log(50)/k"
            ]
          },
          "metadata": {},
          "output_type": "display_data"
        }
      ],
      "source": [
        "# solve for time when it reaches to a velocity of 1 m/s\n",
        "\n",
        "# define the equation\n",
        "time =solve(Eq(y_solution.rhs,1),t)[0] # solving for solution to be 1 for variable t, [0] is just for the first solution that comes up\n",
        "display(time) \n"
      ]
    },
    {
      "cell_type": "code",
      "execution_count": null,
      "metadata": {},
      "outputs": [
        {
          "name": "stdout",
          "output_type": "stream",
          "text": [
            "Time (s) it takes for dragster to reach 1 m/s:\n"
          ]
        },
        {
          "data": {
            "text/latex": [
              "$\\displaystyle 19.5601150271407$"
            ],
            "text/plain": [
              "19.5601150271407"
            ]
          },
          "execution_count": 521,
          "metadata": {},
          "output_type": "execute_result"
        }
      ],
      "source": [
        "# getting a vlaue for the time the dragster reaches 1 m/s\n",
        "\n",
        "print('Time (s) it takes for dragster to reach 1 m/s:')\n",
        "time.subs(par).n()  # subs(par) is just substituting the parameter values mentioned before\n",
        "                    #n() is a numerical approximation for the value calculated \n"
      ]
    },
    {
      "cell_type": "code",
      "execution_count": null,
      "metadata": {},
      "outputs": [
        {
          "name": "stdout",
          "output_type": "stream",
          "text": [
            "Disctance (m) dragster runs until it reaches velocity of 1 m/s:\n"
          ]
        },
        {
          "data": {
            "text/latex": [
              "$\\displaystyle x{\\left(19.56 \\right)} = 244.999884971536$"
            ],
            "text/plain": [
              "Eq(x(19.56), 244.999884971536)"
            ]
          },
          "execution_count": 522,
          "metadata": {},
          "output_type": "execute_result"
        }
      ],
      "source": [
        "# now we need to find the distance the dragset ha ran overall\n",
        "\n",
        "print('Disctance (m) dragster runs until it reaches velocity of 1 m/s:')\n",
        "x_solution.subs(par).evalf(subs={t:19.56})  #evalf, asks to evaluate a floating value (decimal)\n",
        "                                            #t is being susbtituted with the given time which is the float "
      ]
    },
    {
      "cell_type": "code",
      "execution_count": 535,
      "metadata": {},
      "outputs": [
        {
          "name": "stdout",
          "output_type": "stream",
          "text": [
            "these are the differential equations that will be solved for T1 and T2:\n"
          ]
        },
        {
          "data": {
            "text/latex": [
              "$\\displaystyle V_{1} \\frac{d}{d t} \\operatorname{Corg}_{1}{\\left(t \\right)} = - Corg V_{1} k - f \\operatorname{Corg}_{1}{\\left(t \\right)}$"
            ],
            "text/plain": [
              "Eq(V1*Derivative(Corg1(t), t), -Corg*V1*k - f*Corg1(t))"
            ]
          },
          "metadata": {},
          "output_type": "display_data"
        },
        {
          "data": {
            "text/latex": [
              "$\\displaystyle V_{2} \\frac{d}{d t} \\operatorname{Corg}_{2}{\\left(t \\right)} = - Corg V_{2} k - f \\left(- \\operatorname{Corg}_{1}{\\left(t \\right)} + \\operatorname{Corg}_{2}{\\left(t \\right)}\\right)$"
            ],
            "text/plain": [
              "Eq(V2*Derivative(Corg2(t), t), -Corg*V2*k - f*(-Corg1(t) + Corg2(t)))"
            ]
          },
          "metadata": {},
          "output_type": "display_data"
        }
      ],
      "source": [
        "from sympy import * #import main library and functions\n",
        "from IPython.display import display, Math, Markdown \n",
        "\n",
        "# now we will define the symbols used, include anything except the thing that is in d/dt\n",
        "V1, V2, k, t, Corg, f = symbols(\"V1, V2, k, t, Corg, f\",positive=True) \n",
        "\n",
        "# definex and y as a function which is the differential equation\n",
        "Corg1, Corg2 = symbols('Corg1, Corg2',cls=Function) \n",
        "\n",
        "\n",
        "#now we will define the first differential equation\n",
        "# REMEMBER left side of equation (= is ,) and right side \n",
        "deqn1 = Eq(V1 * diff(Corg1(t),t), - k *Corg*V1 - (f*Corg1(t)))\n",
        "\n",
        "deqn2 = Eq(V2 * diff(Corg2(t),t), - k *Corg*V2 - f*(Corg2(t)-Corg1(t)))\n",
        "\n",
        "\n",
        "print('these are the differential equations that will be solved for T1 and T2:')\n",
        "display(deqn1)\n",
        "display(deqn2)\n",
        "\n"
      ]
    },
    {
      "cell_type": "code",
      "execution_count": 558,
      "metadata": {},
      "outputs": [
        {
          "data": {
            "text/markdown": [
              "Symbolic solutions for T1 and T2 are:"
            ],
            "text/plain": [
              "<IPython.core.display.Markdown object>"
            ]
          },
          "metadata": {},
          "output_type": "display_data"
        },
        {
          "data": {
            "text/latex": [
              "$\\displaystyle \\operatorname{Corg}_{1}{\\left(t \\right)} = - 3.0 Corg + \\left(3.0 Corg + 50.0\\right) e^{- 0.5 t}$"
            ],
            "text/plain": [
              "Eq(Corg1(t), -3.0*Corg + (3.0*Corg + 50.0)*exp(-0.5*t))"
            ]
          },
          "metadata": {},
          "output_type": "display_data"
        },
        {
          "data": {
            "text/latex": [
              "$\\displaystyle \\operatorname{Corg}_{2}{\\left(t \\right)} = - 4.5 Corg - \\left(1.5 Corg + 50.0\\right) e^{- 1.0 t} + \\left(6.0 Corg + 100.0\\right) e^{- 0.5 t}$"
            ],
            "text/plain": [
              "Eq(Corg2(t), -4.5*Corg - (1.5*Corg + 50.0)*exp(-1.0*t) + (6.0*Corg + 100.0)*exp(-0.5*t))"
            ]
          },
          "metadata": {},
          "output_type": "display_data"
        },
        {
          "name": "stdout",
          "output_type": "stream",
          "text": [
            "this is the analytical solution for Tank 1:\n"
          ]
        },
        {
          "data": {
            "text/latex": [
              "$\\displaystyle \\operatorname{Corg}_{1}{\\left(t \\right)} = C_{1} e^{- \\frac{f t}{V_{1}}} - \\frac{Corg V_{1} k}{f}$"
            ],
            "text/plain": [
              "Eq(Corg1(t), C1*exp(-f*t/V1) - Corg*V1*k/f)"
            ]
          },
          "metadata": {},
          "output_type": "display_data"
        },
        {
          "name": "stdout",
          "output_type": "stream",
          "text": [
            "this is the analytical solution for Tank 2:\n"
          ]
        },
        {
          "data": {
            "text/latex": [
              "$\\displaystyle \\frac{- \\frac{Corg V_{2}^{2} k e^{\\frac{f t}{V_{2}}}}{f} + f \\int \\operatorname{Corg}_{1}{\\left(t \\right)} e^{\\frac{f t}{V_{2}}}\\, dt - f \\int \\operatorname{Corg}_{2}{\\left(t \\right)} e^{\\frac{f t}{V_{2}}}\\, dt}{V_{2}} = C_{1}$"
            ],
            "text/plain": [
              "Eq((-Corg*V2**2*k*exp(f*t/V2)/f + f*Integral(Corg1(t)*exp(f*t/V2), t) - f*Integral(Corg2(t)*exp(f*t/V2), t))/V2, C1)"
            ]
          },
          "metadata": {},
          "output_type": "display_data"
        },
        {
          "data": {
            "text/markdown": [
              "Some solutions using only initial conditions for T1 and T2 are:"
            ],
            "text/plain": [
              "<IPython.core.display.Markdown object>"
            ]
          },
          "metadata": {},
          "output_type": "display_data"
        },
        {
          "data": {
            "text/latex": [
              "$\\displaystyle \\operatorname{Corg}_{1}{\\left(t \\right)} = - \\frac{Corg V_{1} k}{f} + \\frac{\\left(Corg V_{1}^{2} k + 50 V_{1} f - V_{2} \\left(Corg V_{1} k + 50 f\\right)\\right) e^{- \\frac{f t}{V_{1}}}}{f \\left(V_{1} - V_{2}\\right)}$"
            ],
            "text/plain": [
              "Eq(Corg1(t), -Corg*V1*k/f + (Corg*V1**2*k + 50*V1*f - V2*(Corg*V1*k + 50*f))*exp(-f*t/V1)/(f*(V1 - V2)))"
            ]
          },
          "metadata": {},
          "output_type": "display_data"
        },
        {
          "data": {
            "text/latex": [
              "$\\displaystyle \\operatorname{Corg}_{2}{\\left(t \\right)} = - \\frac{Corg k \\left(V_{1}^{2} - V_{2}^{2}\\right)}{f \\left(V_{1} - V_{2}\\right)} + \\frac{V_{1} \\left(Corg V_{1} k + 50 f\\right) e^{- \\frac{f t}{V_{1}}}}{f \\left(V_{1} - V_{2}\\right)} - \\frac{V_{2} \\left(Corg V_{2} k + 50 f\\right) e^{- \\frac{f t}{V_{2}}}}{f \\left(V_{1} - V_{2}\\right)}$"
            ],
            "text/plain": [
              "Eq(Corg2(t), -Corg*k*(V1**2 - V2**2)/(f*(V1 - V2)) + V1*(Corg*V1*k + 50*f)*exp(-f*t/V1)/(f*(V1 - V2)) - V2*(Corg*V2*k + 50*f)*exp(-f*t/V2)/(f*(V1 - V2)))"
            ]
          },
          "metadata": {},
          "output_type": "display_data"
        }
      ],
      "source": [
        "# Solving for both tanks \n",
        "params = {\n",
        "    (f,125), #\n",
        "    (V1,250), #\n",
        "    (V2, 125), #\n",
        "    (k, 1.5), #\n",
        "}\n",
        "\n",
        "init_condit1 = {Corg1(0):50, Corg2(0):50} # g/l  initial value \n",
        "\n",
        "symbolic_solution = dsolve((deqn1.subs(params),deqn2.subs(params)), ics=init_condit1)\n",
        "display(Markdown('Numerical solutions for T1 and T2 are:'), symbolic_solution[0],symbolic_solution[1])\n",
        "\n",
        "anal_sol = dsolve(deqn1)\n",
        "print ('this is the analytical solution for Tank 1:')\n",
        "display(anal_sol)\n",
        "\n",
        "print ('this is the analytical solution for Tank 2:')\n",
        "anal_sol2 = dsolve(deqn2)\n",
        "display(anal_sol2)\n",
        "\n",
        "\n",
        "# now we ask python to solve it for us :) \n",
        "some_sol = dsolve((deqn1, deqn2),ics=init_condit1) #\n",
        "display(Markdown('Some solutions using only initial conditions for T1 and T2 are:'), some_sol[0], some_sol[1]) "
      ]
    },
    {
      "cell_type": "code",
      "execution_count": 555,
      "metadata": {},
      "outputs": [
        {
          "ename": "ValueError",
          "evalue": "The same variable should be used in all univariate expressions being plotted.",
          "output_type": "error",
          "traceback": [
            "\u001b[1;31m---------------------------------------------------------------------------\u001b[0m",
            "\u001b[1;31mValueError\u001b[0m                                Traceback (most recent call last)",
            "Cell \u001b[1;32mIn[555], line 9\u001b[0m\n\u001b[0;32m      5\u001b[0m Corg2_solution \u001b[38;5;241m=\u001b[39m symb_sol2\u001b[38;5;241m.\u001b[39mrhs\u001b[38;5;241m.\u001b[39msubs(par)\n\u001b[0;32m      7\u001b[0m \u001b[38;5;66;03m#plotting\u001b[39;00m\n\u001b[1;32m----> 9\u001b[0m graphs \u001b[38;5;241m=\u001b[39m \u001b[43mplot\u001b[49m\u001b[43m(\u001b[49m\u001b[43mCorg1_solution\u001b[49m\u001b[43m,\u001b[49m\u001b[43mCorg2_solution\u001b[49m\u001b[43m,\u001b[49m\u001b[43m(\u001b[49m\u001b[43mt\u001b[49m\u001b[43m,\u001b[49m\u001b[38;5;241;43m0\u001b[39;49m\u001b[43m,\u001b[49m\u001b[38;5;241;43m300\u001b[39;49m\u001b[43m)\u001b[49m\u001b[43m,\u001b[49m\u001b[43mlegend\u001b[49m\u001b[38;5;241;43m=\u001b[39;49m\u001b[38;5;28;43;01mTrue\u001b[39;49;00m\u001b[43m,\u001b[49m\u001b[43mshow\u001b[49m\u001b[38;5;241;43m=\u001b[39;49m\u001b[38;5;28;43;01mFalse\u001b[39;49;00m\u001b[43m)\u001b[49m\n\u001b[0;32m     10\u001b[0m graphs[\u001b[38;5;241m0\u001b[39m]\u001b[38;5;241m.\u001b[39mlabel \u001b[38;5;241m=\u001b[39m \u001b[38;5;124m'\u001b[39m\u001b[38;5;124mcorg1(t)\u001b[39m\u001b[38;5;124m'\u001b[39m\n\u001b[0;32m     11\u001b[0m graphs[\u001b[38;5;241m1\u001b[39m]\u001b[38;5;241m.\u001b[39mlabel \u001b[38;5;241m=\u001b[39m \u001b[38;5;124m'\u001b[39m\u001b[38;5;124mcorg2(t)\u001b[39m\u001b[38;5;124m'\u001b[39m\n",
            "File \u001b[1;32mc:\\Users\\maria\\AppData\\Local\\Programs\\Python\\Python311\\Lib\\site-packages\\sympy\\plotting\\plot.py:1861\u001b[0m, in \u001b[0;36mplot\u001b[1;34m(show, *args, **kwargs)\u001b[0m\n\u001b[0;32m   1859\u001b[0m         free \u001b[38;5;241m|\u001b[39m\u001b[38;5;241m=\u001b[39m a\u001b[38;5;241m.\u001b[39mfree_symbols\n\u001b[0;32m   1860\u001b[0m         \u001b[38;5;28;01mif\u001b[39;00m \u001b[38;5;28mlen\u001b[39m(free) \u001b[38;5;241m>\u001b[39m \u001b[38;5;241m1\u001b[39m:\n\u001b[1;32m-> 1861\u001b[0m             \u001b[38;5;28;01mraise\u001b[39;00m \u001b[38;5;167;01mValueError\u001b[39;00m(\n\u001b[0;32m   1862\u001b[0m                 \u001b[38;5;124m'\u001b[39m\u001b[38;5;124mThe same variable should be used in all \u001b[39m\u001b[38;5;124m'\u001b[39m\n\u001b[0;32m   1863\u001b[0m                 \u001b[38;5;124m'\u001b[39m\u001b[38;5;124munivariate expressions being plotted.\u001b[39m\u001b[38;5;124m'\u001b[39m)\n\u001b[0;32m   1864\u001b[0m x \u001b[38;5;241m=\u001b[39m free\u001b[38;5;241m.\u001b[39mpop() \u001b[38;5;28;01mif\u001b[39;00m free \u001b[38;5;28;01melse\u001b[39;00m Symbol(\u001b[38;5;124m'\u001b[39m\u001b[38;5;124mx\u001b[39m\u001b[38;5;124m'\u001b[39m)\n\u001b[0;32m   1865\u001b[0m kwargs\u001b[38;5;241m.\u001b[39msetdefault(\u001b[38;5;124m'\u001b[39m\u001b[38;5;124mxlabel\u001b[39m\u001b[38;5;124m'\u001b[39m, x)\n",
            "\u001b[1;31mValueError\u001b[0m: The same variable should be used in all univariate expressions being plotted."
          ]
        }
      ],
      "source": [
        "# now we plot\n",
        "\n",
        "Corg1_sol=symbolic_solution[0].rhs.subs(par)\n",
        "Corg2_sol=symbolic_solution[1].rhs.subs(par)\n",
        "\n",
        "#plotting\n",
        "\n",
        "graphs = plot(Corg1_solution,Corg2_solution,(t,0,300),legend=True,show=False)\n",
        "graphs[0].label = 'corg1(t)'\n",
        "graphs[1].label = 'corg2(t)'\n",
        "graphs.title = 'Concentration of A vs time'\n",
        "graphs.show()"
      ]
    }
  ],
  "metadata": {
    "colab": {
      "authorship_tag": "ABX9TyMYpGtmEqr/ZHrrdkls4Tax",
      "include_colab_link": true,
      "provenance": []
    },
    "kernelspec": {
      "display_name": "Python 3",
      "name": "python3"
    },
    "language_info": {
      "codemirror_mode": {
        "name": "ipython",
        "version": 3
      },
      "file_extension": ".py",
      "mimetype": "text/x-python",
      "name": "python",
      "nbconvert_exporter": "python",
      "pygments_lexer": "ipython3",
      "version": "3.11.3"
    }
  },
  "nbformat": 4,
  "nbformat_minor": 0
}
